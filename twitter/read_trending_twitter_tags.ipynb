{
 "cells": [
  {
   "cell_type": "markdown",
   "metadata": {},
   "source": [
    "Scrap trending tags from twitter\n",
    "pip install python-twitter"
   ]
  },
  {
   "cell_type": "code",
   "execution_count": 18,
   "metadata": {},
   "outputs": [],
   "source": [
    "import twitter\n",
    "import twitter_app_key "
   ]
  },
  {
   "cell_type": "code",
   "execution_count": 19,
   "metadata": {},
   "outputs": [],
   "source": [
    "\n",
    "api = twitter.Api(consumer_key=twitter_app_key.consumer_key,\n",
    "                      consumer_secret=twitter_app_key.consumer_secret,\n",
    "                      access_token_key=twitter_app_key.access_token,\n",
    "                      access_token_secret=twitter_app_key.access_token_secret)"
   ]
  },
  {
   "cell_type": "code",
   "execution_count": 20,
   "metadata": {},
   "outputs": [
    {
     "data": {
      "text/plain": [
       "[User(ID=763368160527544320, ScreenName=dl_weekly),\n",
       " User(ID=810932119405006848, ScreenName=CoolDatasets),\n",
       " User(ID=49413866, ScreenName=randal_olson),\n",
       " User(ID=800992111009103872, ScreenName=Bpatil24),\n",
       " User(ID=116825767, ScreenName=ketand1),\n",
       " User(ID=823984302, ScreenName=shan72131745),\n",
       " User(ID=790591678910312448, ScreenName=jaithwar_rahul),\n",
       " User(ID=1275255110, ScreenName=APoniewierski),\n",
       " User(ID=555031989, ScreenName=Ronald_vanLoon),\n",
       " User(ID=4249174403, ScreenName=c_iantosca),\n",
       " User(ID=767870954, ScreenName=89abhii89),\n",
       " User(ID=271057073, ScreenName=Database_Scene),\n",
       " User(ID=778720418, ScreenName=eduentrepreneu),\n",
       " User(ID=4753101808, ScreenName=kortxltd),\n",
       " User(ID=1422240193, ScreenName=pawanhb_21),\n",
       " User(ID=701575593524068352, ScreenName=MoreDataScience),\n",
       " User(ID=17952739, ScreenName=cgivre),\n",
       " User(ID=534563976, ScreenName=KirkDBorne),\n",
       " User(ID=131325228, ScreenName=ebanescott),\n",
       " User(ID=136715616, ScreenName=Psk_PP)]"
      ]
     },
     "execution_count": 20,
     "metadata": {},
     "output_type": "execute_result"
    }
   ],
   "source": [
    "api.GetFollowers()"
   ]
  },
  {
   "cell_type": "code",
   "execution_count": 21,
   "metadata": {
    "scrolled": true
   },
   "outputs": [
    {
     "data": {
      "text/plain": [
       "[Trend(Name=u'#SelenasNewSingleOutNow', Time=2017-07-13T07:20:48Z, URL=http://twitter.com/search?q=%23SelenasNewSingleOutNow),\n",
       " Trend(Name=u'#\\u0627\\u0643\\u062b\\u0631_\\u0646\\u0648\\u0639_\\u0634\\u0648\\u0643\\u0644\\u0627\\u062a\\u0647_\\u062a\\u062d\\u0628\\u0647\\u0627', Time=2017-07-13T07:20:48Z, URL=http://twitter.com/search?q=%23%D8%A7%D9%83%D8%AB%D8%B1_%D9%86%D9%88%D8%B9_%D8%B4%D9%88%D9%83%D9%84%D8%A7%D8%AA%D9%87_%D8%AA%D8%AD%D8%A8%D9%87%D8%A7),\n",
       " Trend(Name=u'#FelizJueves', Time=2017-07-13T07:20:48Z, URL=http://twitter.com/search?q=%23FelizJueves),\n",
       " Trend(Name=u'#\\u0642\\u0648\\u0644_\\u062a\\u063a\\u0631\\u064a\\u062f\\u0647_\\u062d\\u0644\\u0648\\u0647', Time=2017-07-13T07:20:48Z, URL=http://twitter.com/search?q=%23%D9%82%D9%88%D9%84_%D8%AA%D8%BA%D8%B1%D9%8A%D8%AF%D9%87_%D8%AD%D9%84%D9%88%D9%87),\n",
       " Trend(Name=u'Corinthians', Time=2017-07-13T07:20:48Z, URL=http://twitter.com/search?q=Corinthians),\n",
       " Trend(Name=u'#TeenChoice', Time=2017-07-13T07:20:48Z, URL=http://twitter.com/search?q=%23TeenChoice),\n",
       " Trend(Name=u'Chuck Blazer', Time=2017-07-13T07:20:48Z, URL=http://twitter.com/search?q=%22Chuck+Blazer%22),\n",
       " Trend(Name=u'Uyan\\u0131\\u015f', Time=2017-07-13T07:20:48Z, URL=http://twitter.com/search?q=Uyan%C4%B1%C5%9F),\n",
       " Trend(Name=u'\\u0645\\u0627\\u062a\\u064a\\u0627\\u0633 \\u0628\\u0631\\u064a\\u062a\\u0648\\u0633', Time=2017-07-13T07:20:48Z, URL=http://twitter.com/search?q=%22%D9%85%D8%A7%D8%AA%D9%8A%D8%A7%D8%B3+%D8%A8%D8%B1%D9%8A%D8%AA%D9%88%D8%B3%22),\n",
       " Trend(Name=u'Arana', Time=2017-07-13T07:20:48Z, URL=http://twitter.com/search?q=Arana),\n",
       " Trend(Name=u'Cuca', Time=2017-07-13T07:20:48Z, URL=http://twitter.com/search?q=Cuca),\n",
       " Trend(Name=u'\\u9ebb\\u96c0\\u306e\\u5f79', Time=2017-07-13T07:20:48Z, URL=http://twitter.com/search?q=%E9%BA%BB%E9%9B%80%E3%81%AE%E5%BD%B9),\n",
       " Trend(Name=u'\\uc784\\uc885\\uc11d', Time=2017-07-13T07:20:48Z, URL=http://twitter.com/search?q=%EC%9E%84%EC%A2%85%EC%84%9D),\n",
       " Trend(Name=u'\\ud0c0\\uce74\\ub124', Time=2017-07-13T07:20:48Z, URL=http://twitter.com/search?q=%ED%83%80%EC%B9%B4%EB%84%A4),\n",
       " Trend(Name=u'M\\xf4nica Iozzi', Time=2017-07-13T07:20:48Z, URL=http://twitter.com/search?q=%22M%C3%B4nica+Iozzi%22),\n",
       " Trend(Name=u'Ganga', Time=2017-07-13T07:20:48Z, URL=http://twitter.com/search?q=Ganga),\n",
       " Trend(Name=u'Kobes', Time=2017-07-13T07:20:48Z, URL=http://twitter.com/search?q=Kobes),\n",
       " Trend(Name=u'\\uc7ac\\ub179\\uc74c', Time=2017-07-13T07:20:48Z, URL=http://twitter.com/search?q=%EC%9E%AC%EB%85%B9%EC%9D%8C),\n",
       " Trend(Name=u'Telcel', Time=2017-07-13T07:20:48Z, URL=http://twitter.com/search?q=Telcel),\n",
       " Trend(Name=u'#\\u0648\\u0631\\u064a\\u0646\\u0627_\\u0627\\u062e\\u0631_\\u0645\\u062d\\u0627\\u062f\\u062b\\u0647_\\u0645\\u0639_\\u0627\\u0644\\u062d\\u0628', Time=2017-07-13T07:20:48Z, URL=http://twitter.com/search?q=%23%D9%88%D8%B1%D9%8A%D9%86%D8%A7_%D8%A7%D8%AE%D8%B1_%D9%85%D8%AD%D8%A7%D8%AF%D8%AB%D9%87_%D9%85%D8%B9_%D8%A7%D9%84%D8%AD%D8%A8),\n",
       " Trend(Name=u'#ESPYS', Time=2017-07-13T07:20:48Z, URL=http://twitter.com/search?q=%23ESPYS),\n",
       " Trend(Name=u'#RichMovies', Time=2017-07-13T07:20:48Z, URL=http://twitter.com/search?q=%23RichMovies),\n",
       " Trend(Name=u'#ThursdayThoughts', Time=2017-07-13T07:20:48Z, URL=http://twitter.com/search?q=%23ThursdayThoughts),\n",
       " Trend(Name=u'#\\u0627\\u0644\\u0642\\u0635\\u064a\\u0645_\\u0648\\u0627\\u0644\\u062d\\u062c\\u0627\\u0632_\\u064a\\u0644\\u0627_\\u062d\\u0628\\u0648\\u0627_\\u0628\\u0639\\u0636', Time=2017-07-13T07:20:48Z, URL=http://twitter.com/search?q=%23%D8%A7%D9%84%D9%82%D8%B5%D9%8A%D9%85_%D9%88%D8%A7%D9%84%D8%AD%D8%AC%D8%A7%D8%B2_%D9%8A%D9%84%D8%A7_%D8%AD%D8%A8%D9%88%D8%A7_%D8%A8%D8%B9%D8%B6),\n",
       " Trend(Name=u'#\\u3042\\u306a\\u305f\\u306e\\u30cb\\u30c3\\u30af\\u30cd\\u30fc\\u30e0\\u304c\\u6c7a\\u5b9a\\u3057\\u307e\\u3057\\u305f', Time=2017-07-13T07:20:48Z, URL=http://twitter.com/search?q=%23%E3%81%82%E3%81%AA%E3%81%9F%E3%81%AE%E3%83%8B%E3%83%83%E3%82%AF%E3%83%8D%E3%83%BC%E3%83%A0%E3%81%8C%E6%B1%BA%E5%AE%9A%E3%81%97%E3%81%BE%E3%81%97%E3%81%9F),\n",
       " Trend(Name=u'#LuisanaConSG', Time=2017-07-13T07:20:48Z, URL=http://twitter.com/search?q=%23LuisanaConSG),\n",
       " Trend(Name=u'#ElInformante', Time=2017-07-13T07:20:48Z, URL=http://twitter.com/search?q=%23ElInformante),\n",
       " Trend(Name=u'#Encierro7TVE', Time=2017-07-13T07:20:48Z, URL=http://twitter.com/search?q=%23Encierro7TVE),\n",
       " Trend(Name=u'#uvimeza', Time=2017-07-13T07:20:48Z, URL=http://twitter.com/search?q=%23uvimeza),\n",
       " Trend(Name=u'#NewSKODAOctavia', Time=2017-07-13T07:20:48Z, URL=http://twitter.com/search?q=%23NewSKODAOctavia),\n",
       " Trend(Name=u'#ShowtimeHuweBeksNaBet', Time=2017-07-13T07:20:48Z, URL=http://twitter.com/search?q=%23ShowtimeHuweBeksNaBet),\n",
       " Trend(Name=u'#USMNT', Time=2017-07-13T07:20:48Z, URL=http://twitter.com/search?q=%23USMNT),\n",
       " Trend(Name=u'#Rayito', Time=2017-07-13T07:20:48Z, URL=http://twitter.com/search?q=%23Rayito),\n",
       " Trend(Name=u'#4yearswithoutcory', Time=2017-07-13T07:20:48Z, URL=http://twitter.com/search?q=%234yearswithoutcory),\n",
       " Trend(Name=u'#\\u0627\\u0644\\u062e\\u0645\\u064a\\u0633', Time=2017-07-13T07:20:48Z, URL=http://twitter.com/search?q=%23%D8%A7%D9%84%D8%AE%D9%85%D9%8A%D8%B3),\n",
       " Trend(Name=u'#MiVidaEn3Palabras', Time=2017-07-13T07:20:48Z, URL=http://twitter.com/search?q=%23MiVidaEn3Palabras),\n",
       " Trend(Name=u'#\\u092d\\u093e\\u0930\\u0924_\\u0928\\u0939\\u0940_\\u091d\\u0941\\u0915\\u0947\\u0917\\u093e', Time=2017-07-13T07:20:48Z, URL=http://twitter.com/search?q=%23%E0%A4%AD%E0%A4%BE%E0%A4%B0%E0%A4%A4_%E0%A4%A8%E0%A4%B9%E0%A5%80_%E0%A4%9D%E0%A5%81%E0%A4%95%E0%A5%87%E0%A4%97%E0%A4%BE),\n",
       " Trend(Name=u'#QueenSugar', Time=2017-07-13T07:20:48Z, URL=http://twitter.com/search?q=%23QueenSugar),\n",
       " Trend(Name=u'#metrotrains', Time=2017-07-13T07:20:48Z, URL=http://twitter.com/search?q=%23metrotrains),\n",
       " Trend(Name=u'#HyBUY', Time=2017-07-13T07:20:48Z, URL=http://twitter.com/search?q=%23HyBUY),\n",
       " Trend(Name=u'#GoTPremiereLA', Time=2017-07-13T07:20:48Z, URL=http://twitter.com/search?q=%23GoTPremiereLA),\n",
       " Trend(Name=u'#\\u062c\\u0631\\u064a\\u0645\\u0647_\\u062a\\u062d\\u0627\\u0643_\\u0636\\u062f_\\u062c\\u0647\\u0627\\u0632_\\u0627\\u0644\\u0647\\u064a\\u064a\\u0647', Time=2017-07-13T07:20:48Z, URL=http://twitter.com/search?q=%23%D8%AC%D8%B1%D9%8A%D9%85%D9%87_%D8%AA%D8%AD%D8%A7%D9%83_%D8%B6%D8%AF_%D8%AC%D9%87%D8%A7%D8%B2_%D8%A7%D9%84%D9%87%D9%8A%D9%8A%D9%87),\n",
       " Trend(Name=u'#AIMtoInnovate', Time=2017-07-13T07:20:48Z, URL=http://twitter.com/search?q=%23AIMtoInnovate),\n",
       " Trend(Name=u'#TeLoDijeLaConstituyenteSiVa', Time=2017-07-13T07:20:48Z, URL=http://twitter.com/search?q=%23TeLoDijeLaConstituyenteSiVa),\n",
       " Trend(Name=u'#ALDUB104thWeeksary', Time=2017-07-13T07:20:48Z, URL=http://twitter.com/search?q=%23ALDUB104thWeeksary),\n",
       " Trend(Name=u'#SeemsHotterThanItIs', Time=2017-07-13T07:20:48Z, URL=http://twitter.com/search?q=%23SeemsHotterThanItIs),\n",
       " Trend(Name=u'#HuyesCuandoTeDigo', Time=2017-07-13T07:20:48Z, URL=http://twitter.com/search?q=%23HuyesCuandoTeDigo),\n",
       " Trend(Name=u'#Rod\\xe9anos17', Time=2017-07-13T07:20:48Z, URL=http://twitter.com/search?q=%23Rod%C3%A9anos17),\n",
       " Trend(Name=u'#Sasikala', Time=2017-07-13T07:20:48Z, URL=http://twitter.com/search?q=%23Sasikala),\n",
       " Trend(Name=u'#MiSolucionParaElInsomnio', Time=2017-07-13T07:20:48Z, URL=http://twitter.com/search?q=%23MiSolucionParaElInsomnio)]"
      ]
     },
     "execution_count": 21,
     "metadata": {},
     "output_type": "execute_result"
    }
   ],
   "source": [
    "api.GetTrendsCurrent()"
   ]
  },
  {
   "cell_type": "code",
   "execution_count": null,
   "metadata": {
    "collapsed": true
   },
   "outputs": [],
   "source": []
  },
  {
   "cell_type": "code",
   "execution_count": null,
   "metadata": {
    "collapsed": true
   },
   "outputs": [],
   "source": []
  },
  {
   "cell_type": "code",
   "execution_count": null,
   "metadata": {
    "collapsed": true
   },
   "outputs": [],
   "source": []
  },
  {
   "cell_type": "markdown",
   "metadata": {},
   "source": [
    "pip install tweepy\n"
   ]
  },
  {
   "cell_type": "code",
   "execution_count": 28,
   "metadata": {
    "collapsed": true
   },
   "outputs": [],
   "source": [
    "import tweepy\n",
    "import twitter_app_key"
   ]
  },
  {
   "cell_type": "code",
   "execution_count": 29,
   "metadata": {
    "collapsed": true
   },
   "outputs": [],
   "source": [
    "auth = tweepy.OAuthHandler(twitter_app_key.consumer_key, twitter_app_key.consumer_secret)\n",
    "auth.set_access_token(twitter_app_key.access_token, twitter_app_key.access_token_secret)\n",
    "\n",
    "api = tweepy.API(auth)\n"
   ]
  },
  {
   "cell_type": "code",
   "execution_count": 32,
   "metadata": {},
   "outputs": [],
   "source": [
    "trends = api.trends_available()"
   ]
  },
  {
   "cell_type": "code",
   "execution_count": 33,
   "metadata": {},
   "outputs": [
    {
     "data": {
      "text/plain": [
       "list"
      ]
     },
     "execution_count": 33,
     "metadata": {},
     "output_type": "execute_result"
    }
   ],
   "source": [
    "type(trends)"
   ]
  },
  {
   "cell_type": "code",
   "execution_count": 48,
   "metadata": {},
   "outputs": [],
   "source": [
    "trend_places = api.trends_place(1)"
   ]
  },
  {
   "cell_type": "code",
   "execution_count": 57,
   "metadata": {},
   "outputs": [],
   "source": [
    "trends = trend_places[0]['trends']"
   ]
  },
  {
   "cell_type": "code",
   "execution_count": 61,
   "metadata": {},
   "outputs": [
    {
     "data": {
      "text/plain": [
       "{u'name': u'Harrison Ford',\n",
       " u'promoted_content': None,\n",
       " u'query': u'%22Harrison+Ford%22',\n",
       " u'tweet_volume': None,\n",
       " u'url': u'http://twitter.com/search?q=%22Harrison+Ford%22'}"
      ]
     },
     "execution_count": 61,
     "metadata": {},
     "output_type": "execute_result"
    }
   ],
   "source": [
    "trends[16]"
   ]
  },
  {
   "cell_type": "code",
   "execution_count": 62,
   "metadata": {},
   "outputs": [
    {
     "name": "stdout",
     "output_type": "stream",
     "text": [
      "#SelenasNewSingleOutNow\n",
      "#اكثر_نوع_شوكلاته_تحبها\n",
      "#FelizJueves\n",
      "#ورينا_اخر_محادثه_مع_الحب\n",
      "#قول_تغريده_حلوه\n",
      "麻雀の役\n",
      "Uyanış\n",
      "임종석\n",
      "Chuck Blazer\n",
      "Bogdan Bogdanovic\n",
      "Okay Gönensin\n",
      "타카네\n",
      "Ganga\n",
      "UCLA\n",
      "Repeal Bill\n",
      "ماتياس بريتوس\n",
      "Harrison Ford\n",
      "Arana\n",
      "Cuca\n",
      "多様性の象徴\n",
      "#ThursdayThoughts\n",
      "#TeenChoice\n",
      "#MonederoPdV\n",
      "#القصيم_والحجاز_يلا_حبوا_بعض\n",
      "#あなたのニックネームが決定しました\n",
      "#RichMovies\n",
      "#metrotrains\n",
      "#4yearswithoutcory\n",
      "#DiaMundialDelRock\n",
      "#HyBUY\n",
      "#SezenAksu\n",
      "#NewSKODAOctavia\n",
      "#الخميس\n",
      "#جريمه_تحاك_ضد_جهاز_الهييه\n",
      "#Encierro7TVE\n",
      "#TekrarSöylüyorum\n",
      "#ShowtimeHuweBeksNaBet\n",
      "#Rayito\n",
      "#uvimeza\n",
      "#13luglio\n",
      "#QueenSugar\n",
      "#ElInformante\n",
      "#भारत_नही_झुकेगा\n",
      "#Sancaktepeden15TemmuzFilmi\n",
      "#PrayForKotoko\n",
      "#GoTPremiereLA\n",
      "#MacriReprimePepsico\n",
      "#AIMtoInnovate\n",
      "#ManuSeQueda\n",
      "#HUTsekjenPSI\n"
     ]
    }
   ],
   "source": [
    "for trend in trends:\n",
    "    print trend['name'].encode('utf-8').strip()"
   ]
  },
  {
   "cell_type": "code",
   "execution_count": null,
   "metadata": {
    "collapsed": true
   },
   "outputs": [],
   "source": []
  }
 ],
 "metadata": {
  "kernelspec": {
   "display_name": "Python 2",
   "language": "python",
   "name": "python2"
  },
  "language_info": {
   "codemirror_mode": {
    "name": "ipython",
    "version": 2
   },
   "file_extension": ".py",
   "mimetype": "text/x-python",
   "name": "python",
   "nbconvert_exporter": "python",
   "pygments_lexer": "ipython2",
   "version": "2.7.13"
  }
 },
 "nbformat": 4,
 "nbformat_minor": 2
}
