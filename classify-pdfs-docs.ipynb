{
 "cells": [
  {
   "cell_type": "code",
   "execution_count": 1,
   "metadata": {
    "collapsed": true
   },
   "outputs": [],
   "source": [
    "import pandas as pd\n",
    "import numpy as np"
   ]
  },
  {
   "cell_type": "code",
   "execution_count": 2,
   "metadata": {
    "collapsed": true
   },
   "outputs": [],
   "source": [
    "file_name = 'data/data.csv'\n",
    "data = pd.read_csv(file_name, sep='\\t')"
   ]
  },
  {
   "cell_type": "code",
   "execution_count": 3,
   "metadata": {
    "collapsed": false
   },
   "outputs": [
    {
     "data": {
      "text/plain": [
       "Index([u'Unnamed: 0', u'text', u'tags'], dtype='object')"
      ]
     },
     "execution_count": 3,
     "metadata": {},
     "output_type": "execute_result"
    }
   ],
   "source": [
    "data.columns"
   ]
  },
  {
   "cell_type": "code",
   "execution_count": 3,
   "metadata": {
    "collapsed": true
   },
   "outputs": [],
   "source": [
    "def add_row(text, classes):\n",
    "    data.loc[len(data)] = [len(data), text, classes]"
   ]
  },
  {
   "cell_type": "code",
   "execution_count": 5,
   "metadata": {
    "collapsed": false
   },
   "outputs": [
    {
     "data": {
      "text/plain": [
       "(19737, 3)"
      ]
     },
     "execution_count": 5,
     "metadata": {},
     "output_type": "execute_result"
    }
   ],
   "source": [
    "data.shape"
   ]
  },
  {
   "cell_type": "code",
   "execution_count": 6,
   "metadata": {
    "collapsed": true
   },
   "outputs": [],
   "source": [
    "import textract\n",
    "from os import listdir\n",
    "from os.path import isfile, join\n",
    "dirpath = 'data/short-story/'\n",
    "shortstory = [add_row(textract.process(dirpath + f),'shortstory') for f in listdir(dirpath) if isfile(join(dirpath, f))]\n",
    "dirpath = 'data/java/'\n",
    "java = [add_row(textract.process(dirpath + f), 'java') for f in listdir(dirpath) if isfile(join(dirpath, f))]\n",
    "dirpath = 'data/python/'\n",
    "python = [add_row(textract.process(dirpath + f),'python') for f in listdir(dirpath) if isfile(join(dirpath, f))]"
   ]
  },
  {
   "cell_type": "code",
   "execution_count": 7,
   "metadata": {
    "collapsed": false
   },
   "outputs": [
    {
     "data": {
      "text/plain": [
       "(19772, 3)"
      ]
     },
     "execution_count": 7,
     "metadata": {},
     "output_type": "execute_result"
    }
   ],
   "source": [
    "data.shape"
   ]
  },
  {
   "cell_type": "code",
   "execution_count": 8,
   "metadata": {
    "collapsed": true
   },
   "outputs": [
    {
     "data": {
      "text/html": [
       "<div>\n",
       "<table border=\"1\" class=\"dataframe\">\n",
       "  <thead>\n",
       "    <tr style=\"text-align: right;\">\n",
       "      <th></th>\n",
       "      <th>Unnamed: 0</th>\n",
       "      <th>text</th>\n",
       "      <th>tags</th>\n",
       "    </tr>\n",
       "  </thead>\n",
       "  <tbody>\n",
       "    <tr>\n",
       "      <th>19731</th>\n",
       "      <td>19731</td>\n",
       "      <td>ISA*00*          *00*          *ZZ*EMEDNYREL  ...</td>\n",
       "      <td>hippa</td>\n",
       "    </tr>\n",
       "    <tr>\n",
       "      <th>19732</th>\n",
       "      <td>19732</td>\n",
       "      <td>ISA*00*          *00*          *ZZ*EMEDNYBAT  ...</td>\n",
       "      <td>hippa</td>\n",
       "    </tr>\n",
       "    <tr>\n",
       "      <th>19733</th>\n",
       "      <td>19733</td>\n",
       "      <td>ISA*00*          *00*          *ZZ*EMEDNYBAT  ...</td>\n",
       "      <td>hippa</td>\n",
       "    </tr>\n",
       "    <tr>\n",
       "      <th>19734</th>\n",
       "      <td>19734</td>\n",
       "      <td>ISA*00*          *00*          *ZZ*EMEDNYBAT  ...</td>\n",
       "      <td>hippa</td>\n",
       "    </tr>\n",
       "    <tr>\n",
       "      <th>19735</th>\n",
       "      <td>19735</td>\n",
       "      <td>ISA*00*          *00*          *ZZ*EMEDNYBAT  ...</td>\n",
       "      <td>hippa</td>\n",
       "    </tr>\n",
       "    <tr>\n",
       "      <th>19736</th>\n",
       "      <td>19736</td>\n",
       "      <td>ISA*00*          *00*          *ZZ*EMEDNYBAT  ...</td>\n",
       "      <td>hippa</td>\n",
       "    </tr>\n",
       "    <tr>\n",
       "      <th>19737</th>\n",
       "      <td>19737</td>\n",
       "      <td>A CBT PUBLICATION\\nSHORT\\nSTORIES\\nFOR\\nCHILDR...</td>\n",
       "      <td>shortstory</td>\n",
       "    </tr>\n",
       "    <tr>\n",
       "      <th>19738</th>\n",
       "      <td>19738</td>\n",
       "      <td>Forty\\nStories\\nNew Writing from\\nHarper\\nPERE...</td>\n",
       "      <td>shortstory</td>\n",
       "    </tr>\n",
       "    <tr>\n",
       "      <th>19739</th>\n",
       "      <td>19739</td>\n",
       "      <td>Short Stories for Children\\nfor\\nSpoken Englis...</td>\n",
       "      <td>shortstory</td>\n",
       "    </tr>\n",
       "    <tr>\n",
       "      <th>19740</th>\n",
       "      <td>19740</td>\n",
       "      <td>The Complete Stories\\nby Franz\\nKafka\\na.b.e-b...</td>\n",
       "      <td>shortstory</td>\n",
       "    </tr>\n",
       "    <tr>\n",
       "      <th>19741</th>\n",
       "      <td>19741</td>\n",
       "      <td>GLOBAL VILLAGE STORIES – A relational art proj...</td>\n",
       "      <td>shortstory</td>\n",
       "    </tr>\n",
       "    <tr>\n",
       "      <th>19742</th>\n",
       "      <td>19742</td>\n",
       "      <td>THE BEST AMERICAN\\nHUMOROUS SHORT STORIES\\nby ...</td>\n",
       "      <td>shortstory</td>\n",
       "    </tr>\n",
       "    <tr>\n",
       "      <th>19743</th>\n",
       "      <td>19743</td>\n",
       "      <td>B OOKS BY E RNEST H EMINGWAY\\nThe Complete Sho...</td>\n",
       "      <td>shortstory</td>\n",
       "    </tr>\n",
       "    <tr>\n",
       "      <th>19744</th>\n",
       "      <td>19744</td>\n",
       "      <td>CASSETTE\\nAVAILABLE\\nSHERLOCK HOLMES\\nSHORT ST...</td>\n",
       "      <td>shortstory</td>\n",
       "    </tr>\n",
       "    <tr>\n",
       "      <th>19745</th>\n",
       "      <td>19745</td>\n",
       "      <td>Five Short Stories\\nAlphonse Daudet\\nThe Harva...</td>\n",
       "      <td>shortstory</td>\n",
       "    </tr>\n",
       "    <tr>\n",
       "      <th>19746</th>\n",
       "      <td>19746</td>\n",
       "      <td>Book of Short\\nStories\\nPRINTED AND BOUND UNDE...</td>\n",
       "      <td>shortstory</td>\n",
       "    </tr>\n",
       "    <tr>\n",
       "      <th>19747</th>\n",
       "      <td>19747</td>\n",
       "      <td>Chapter 1\\nJava Fundamentals\\n1\\t\\n2 \\t\\nJava:...</td>\n",
       "      <td>java</td>\n",
       "    </tr>\n",
       "    <tr>\n",
       "      <th>19748</th>\n",
       "      <td>19748</td>\n",
       "      <td>Thinking in Java,\\n2 nd Edition, Release 11\\nT...</td>\n",
       "      <td>java</td>\n",
       "    </tr>\n",
       "    <tr>\n",
       "      <th>19749</th>\n",
       "      <td>19749</td>\n",
       "      <td>Introduction to Programming Using Java\\nVersio...</td>\n",
       "      <td>java</td>\n",
       "    </tr>\n",
       "    <tr>\n",
       "      <th>19750</th>\n",
       "      <td>19750</td>\n",
       "      <td>The Java ® Virtual\\nMachine Specification\\nJav...</td>\n",
       "      <td>java</td>\n",
       "    </tr>\n",
       "    <tr>\n",
       "      <th>19751</th>\n",
       "      <td>19751</td>\n",
       "      <td>Eclipse and Java for Total Beginners\\nTutorial...</td>\n",
       "      <td>java</td>\n",
       "    </tr>\n",
       "    <tr>\n",
       "      <th>19752</th>\n",
       "      <td>19752</td>\n",
       "      <td>Data Structures and Algorithms\\nwith Object-Or...</td>\n",
       "      <td>java</td>\n",
       "    </tr>\n",
       "    <tr>\n",
       "      <th>19753</th>\n",
       "      <td>19753</td>\n",
       "      <td>Java\\nAbout the Tutorial\\nJava is a high-level...</td>\n",
       "      <td>java</td>\n",
       "    </tr>\n",
       "    <tr>\n",
       "      <th>19754</th>\n",
       "      <td>19754</td>\n",
       "      <td>abcd\\nTeach Yourself\\nJAVA\\nin 21 Days\\nR\\nLau...</td>\n",
       "      <td>java</td>\n",
       "    </tr>\n",
       "    <tr>\n",
       "      <th>19755</th>\n",
       "      <td>19755</td>\n",
       "      <td>Core JAVA\\nn Fundamental\\nConcepts\\nn Bootstra...</td>\n",
       "      <td>java</td>\n",
       "    </tr>\n",
       "    <tr>\n",
       "      <th>19756</th>\n",
       "      <td>19756</td>\n",
       "      <td>Java TM Application Development\\non Linux ®Jav...</td>\n",
       "      <td>java</td>\n",
       "    </tr>\n",
       "    <tr>\n",
       "      <th>19757</th>\n",
       "      <td>19757</td>\n",
       "      <td>Java :\\nThe Complete Reference,\\nSeventh Editi...</td>\n",
       "      <td>java</td>\n",
       "    </tr>\n",
       "    <tr>\n",
       "      <th>19758</th>\n",
       "      <td>19758</td>\n",
       "      <td>Beginning\\nProgramming\\nwith Java\\nTM\\nFOR\\nDU...</td>\n",
       "      <td>java</td>\n",
       "    </tr>\n",
       "    <tr>\n",
       "      <th>19759</th>\n",
       "      <td>19759</td>\n",
       "      <td>Think Python\\nHow to Think Like a Computer Sci...</td>\n",
       "      <td>python</td>\n",
       "    </tr>\n",
       "    <tr>\n",
       "      <th>19760</th>\n",
       "      <td>19760</td>\n",
       "      <td>Hands-On Python\\nA Tutorial Introduction for B...</td>\n",
       "      <td>python</td>\n",
       "    </tr>\n",
       "    <tr>\n",
       "      <th>19761</th>\n",
       "      <td>19761</td>\n",
       "      <td>A Byte of Python\\nSwaroop C HDedication\\n46\\nT...</td>\n",
       "      <td>python</td>\n",
       "    </tr>\n",
       "    <tr>\n",
       "      <th>19762</th>\n",
       "      <td>19762</td>\n",
       "      <td>Hands-On Python\\nA Tutorial Introduction for B...</td>\n",
       "      <td>python</td>\n",
       "    </tr>\n",
       "    <tr>\n",
       "      <th>19763</th>\n",
       "      <td>19763</td>\n",
       "      <td>Introduction to Python\\nHeavily based on prese...</td>\n",
       "      <td>python</td>\n",
       "    </tr>\n",
       "    <tr>\n",
       "      <th>19764</th>\n",
       "      <td>19764</td>\n",
       "      <td>Biopython Tutorial and Cookbook\\nJeff Chang, B...</td>\n",
       "      <td>python</td>\n",
       "    </tr>\n",
       "    <tr>\n",
       "      <th>19765</th>\n",
       "      <td>19765</td>\n",
       "      <td>LEARNING TO PROGRAM WITH PYTHON\\nRichard L. Ha...</td>\n",
       "      <td>python</td>\n",
       "    </tr>\n",
       "    <tr>\n",
       "      <th>19766</th>\n",
       "      <td>19766</td>\n",
       "      <td>Python Guide Documentation\\nRelease 0.0.1\\nKen...</td>\n",
       "      <td>python</td>\n",
       "    </tr>\n",
       "    <tr>\n",
       "      <th>19767</th>\n",
       "      <td>19767</td>\n",
       "      <td>A Byte of Python\\nSwaroop C HDedication\\n46\\nT...</td>\n",
       "      <td>python</td>\n",
       "    </tr>\n",
       "    <tr>\n",
       "      <th>19768</th>\n",
       "      <td>19768</td>\n",
       "      <td>LEARNING TO PROGRAM WITH PYTHON\\nRichard L. Ha...</td>\n",
       "      <td>python</td>\n",
       "    </tr>\n",
       "    <tr>\n",
       "      <th>19769</th>\n",
       "      <td>19769</td>\n",
       "      <td>Python for Everybody\\nExploring Data Using Pyt...</td>\n",
       "      <td>python</td>\n",
       "    </tr>\n",
       "    <tr>\n",
       "      <th>19770</th>\n",
       "      <td>19770</td>\n",
       "      <td>www.it-ebooks.infoLEARN PYTHON\\nTHE HARD WAY\\n...</td>\n",
       "      <td>python</td>\n",
       "    </tr>\n",
       "    <tr>\n",
       "      <th>19771</th>\n",
       "      <td>19771</td>\n",
       "      <td>www.it-ebooks.infoLEARN PYTHON\\nTHE HARD WAY\\n...</td>\n",
       "      <td>python</td>\n",
       "    </tr>\n",
       "  </tbody>\n",
       "</table>\n",
       "</div>"
      ],
      "text/plain": [
       "       Unnamed: 0                                               text  \\\n",
       "19731       19731  ISA*00*          *00*          *ZZ*EMEDNYREL  ...   \n",
       "19732       19732  ISA*00*          *00*          *ZZ*EMEDNYBAT  ...   \n",
       "19733       19733  ISA*00*          *00*          *ZZ*EMEDNYBAT  ...   \n",
       "19734       19734  ISA*00*          *00*          *ZZ*EMEDNYBAT  ...   \n",
       "19735       19735  ISA*00*          *00*          *ZZ*EMEDNYBAT  ...   \n",
       "19736       19736  ISA*00*          *00*          *ZZ*EMEDNYBAT  ...   \n",
       "19737       19737  A CBT PUBLICATION\\nSHORT\\nSTORIES\\nFOR\\nCHILDR...   \n",
       "19738       19738  Forty\\nStories\\nNew Writing from\\nHarper\\nPERE...   \n",
       "19739       19739  Short Stories for Children\\nfor\\nSpoken Englis...   \n",
       "19740       19740  The Complete Stories\\nby Franz\\nKafka\\na.b.e-b...   \n",
       "19741       19741  GLOBAL VILLAGE STORIES – A relational art proj...   \n",
       "19742       19742  THE BEST AMERICAN\\nHUMOROUS SHORT STORIES\\nby ...   \n",
       "19743       19743  B OOKS BY E RNEST H EMINGWAY\\nThe Complete Sho...   \n",
       "19744       19744  CASSETTE\\nAVAILABLE\\nSHERLOCK HOLMES\\nSHORT ST...   \n",
       "19745       19745  Five Short Stories\\nAlphonse Daudet\\nThe Harva...   \n",
       "19746       19746  Book of Short\\nStories\\nPRINTED AND BOUND UNDE...   \n",
       "19747       19747  Chapter 1\\nJava Fundamentals\\n1\\t\\n2 \\t\\nJava:...   \n",
       "19748       19748  Thinking in Java,\\n2 nd Edition, Release 11\\nT...   \n",
       "19749       19749  Introduction to Programming Using Java\\nVersio...   \n",
       "19750       19750  The Java ® Virtual\\nMachine Specification\\nJav...   \n",
       "19751       19751  Eclipse and Java for Total Beginners\\nTutorial...   \n",
       "19752       19752  Data Structures and Algorithms\\nwith Object-Or...   \n",
       "19753       19753  Java\\nAbout the Tutorial\\nJava is a high-level...   \n",
       "19754       19754  abcd\\nTeach Yourself\\nJAVA\\nin 21 Days\\nR\\nLau...   \n",
       "19755       19755  Core JAVA\\nn Fundamental\\nConcepts\\nn Bootstra...   \n",
       "19756       19756  Java TM Application Development\\non Linux ®Jav...   \n",
       "19757       19757  Java :\\nThe Complete Reference,\\nSeventh Editi...   \n",
       "19758       19758  Beginning\\nProgramming\\nwith Java\\nTM\\nFOR\\nDU...   \n",
       "19759       19759  Think Python\\nHow to Think Like a Computer Sci...   \n",
       "19760       19760  Hands-On Python\\nA Tutorial Introduction for B...   \n",
       "19761       19761  A Byte of Python\\nSwaroop C HDedication\\n46\\nT...   \n",
       "19762       19762  Hands-On Python\\nA Tutorial Introduction for B...   \n",
       "19763       19763  Introduction to Python\\nHeavily based on prese...   \n",
       "19764       19764  Biopython Tutorial and Cookbook\\nJeff Chang, B...   \n",
       "19765       19765  LEARNING TO PROGRAM WITH PYTHON\\nRichard L. Ha...   \n",
       "19766       19766  Python Guide Documentation\\nRelease 0.0.1\\nKen...   \n",
       "19767       19767  A Byte of Python\\nSwaroop C HDedication\\n46\\nT...   \n",
       "19768       19768  LEARNING TO PROGRAM WITH PYTHON\\nRichard L. Ha...   \n",
       "19769       19769  Python for Everybody\\nExploring Data Using Pyt...   \n",
       "19770       19770  www.it-ebooks.infoLEARN PYTHON\\nTHE HARD WAY\\n...   \n",
       "19771       19771  www.it-ebooks.infoLEARN PYTHON\\nTHE HARD WAY\\n...   \n",
       "\n",
       "             tags  \n",
       "19731       hippa  \n",
       "19732       hippa  \n",
       "19733       hippa  \n",
       "19734       hippa  \n",
       "19735       hippa  \n",
       "19736       hippa  \n",
       "19737  shortstory  \n",
       "19738  shortstory  \n",
       "19739  shortstory  \n",
       "19740  shortstory  \n",
       "19741  shortstory  \n",
       "19742  shortstory  \n",
       "19743  shortstory  \n",
       "19744  shortstory  \n",
       "19745  shortstory  \n",
       "19746  shortstory  \n",
       "19747        java  \n",
       "19748        java  \n",
       "19749        java  \n",
       "19750        java  \n",
       "19751        java  \n",
       "19752        java  \n",
       "19753        java  \n",
       "19754        java  \n",
       "19755        java  \n",
       "19756        java  \n",
       "19757        java  \n",
       "19758        java  \n",
       "19759      python  \n",
       "19760      python  \n",
       "19761      python  \n",
       "19762      python  \n",
       "19763      python  \n",
       "19764      python  \n",
       "19765      python  \n",
       "19766      python  \n",
       "19767      python  \n",
       "19768      python  \n",
       "19769      python  \n",
       "19770      python  \n",
       "19771      python  "
      ]
     },
     "execution_count": 8,
     "metadata": {},
     "output_type": "execute_result"
    }
   ],
   "source": [
    "data.tail(data.shape[0]- 19731)"
   ]
  },
  {
   "cell_type": "code",
   "execution_count": 9,
   "metadata": {
    "collapsed": true
   },
   "outputs": [],
   "source": [
    "data.tags = data.tags.map(lambda s:s.split(','))"
   ]
  },
  {
   "cell_type": "code",
   "execution_count": 10,
   "metadata": {
    "collapsed": false
   },
   "outputs": [
    {
     "data": {
      "text/plain": [
       "['python']"
      ]
     },
     "execution_count": 10,
     "metadata": {},
     "output_type": "execute_result"
    }
   ],
   "source": [
    "data.tags[19770]"
   ]
  },
  {
   "cell_type": "code",
   "execution_count": 8,
   "metadata": {
    "collapsed": false
   },
   "outputs": [
    {
     "name": "stderr",
     "output_type": "stream",
     "text": [
      "/home/canwill/anaconda2/lib/python2.7/site-packages/sklearn/cross_validation.py:44: DeprecationWarning: This module was deprecated in version 0.18 in favor of the model_selection module into which all the refactored classes and functions are moved. Also note that the interface of the new CV iterators are different from that of this module. This module will be removed in 0.20.\n",
      "  \"This module will be removed in 0.20.\", DeprecationWarning)\n"
     ]
    }
   ],
   "source": [
    "import os\n",
    "import time\n",
    "import string\n",
    "import pickle\n",
    "import string\n",
    "\n",
    "from operator import itemgetter\n",
    "\n",
    "from nltk.corpus import stopwords as sw\n",
    "from nltk.corpus import wordnet as wn\n",
    "from nltk import wordpunct_tokenize\n",
    "from nltk import WordNetLemmatizer\n",
    "from nltk import sent_tokenize\n",
    "from nltk import pos_tag\n",
    "from stemming.porter2 import stem\n",
    "\n",
    "from sklearn.pipeline import Pipeline\n",
    "from sklearn.preprocessing import LabelEncoder\n",
    "from sklearn.linear_model import SGDClassifier\n",
    "from sklearn.base import BaseEstimator, TransformerMixin\n",
    "from sklearn.metrics import classification_report as clsr\n",
    "from sklearn.feature_extraction.text import TfidfVectorizer\n",
    "from sklearn.cross_validation import train_test_split as tts"
   ]
  },
  {
   "cell_type": "code",
   "execution_count": 6,
   "metadata": {
    "collapsed": true
   },
   "outputs": [],
   "source": [
    "def add_row(text, classes, df):\n",
    "    df.loc[len(df)] = [len(df), text, classes]"
   ]
  },
  {
   "cell_type": "code",
   "execution_count": 7,
   "metadata": {
    "collapsed": false
   },
   "outputs": [],
   "source": [
    "import textract\n",
    "from os import listdir\n",
    "from os.path import isfile, join\n",
    "columns = ['index','text', 'tag']\n",
    "data = pd.DataFrame( columns=columns)\n",
    "data\n",
    "\n",
    "dirpath = 'data/train/short-story/'\n",
    "shortstory = [add_row(textract.process(dirpath + f),'shortstory', data) for f in listdir(dirpath) if isfile(join(dirpath, f))]\n",
    "\n",
    "dirpath = 'data/train/java/'\n",
    "java = [add_row(textract.process(dirpath + f), 'technical', data) for f in listdir(dirpath) if isfile(join(dirpath, f))]\n",
    "\n",
    "dirpath = 'data/train/python/'\n",
    "python = [add_row(textract.process(dirpath + f),'technical', data) for f in listdir(dirpath) if isfile(join(dirpath, f))]\n",
    "\n",
    "dirpath = 'data/train/medicine/'\n",
    "medicine = [add_row(textract.process(dirpath + f),'medicine', data) for f in listdir(dirpath) if isfile(join(dirpath, f))]\n",
    "\n",
    "dirpath = 'data/train/mobile/screen/'\n",
    "mobilescreen = [add_row(textract.process(dirpath + f),'mobilescreen', data) for f in listdir(dirpath) if isfile(join(dirpath, f))]\n",
    "\n",
    "dirpath = 'data/train/mobile/memorycard/'\n",
    "mobilememorycard = [add_row(textract.process(dirpath + f),'mobilememorycard', data) for f in listdir(dirpath) if isfile(join(dirpath, f))]"
   ]
  },
  {
   "cell_type": "markdown",
   "metadata": {},
   "source": [
    "WithOut Label Binarizer"
   ]
  },
  {
   "cell_type": "code",
   "execution_count": 10,
   "metadata": {
    "collapsed": false
   },
   "outputs": [],
   "source": [
    "y = data.tag\n",
    "labels = LabelEncoder()\n",
    "y = labels.fit_transform(y)\n",
    "\n",
    " \n",
    "\n",
    "import numpy as np\n",
    "msk = np.random.rand(len(data)) < 0.8\n",
    "#N = int(.8 * text.text.shape[0])\n",
    "Xtrain, ytr = data.text[msk], y[msk]\n",
    "Xtest, yte  = data.text[~msk], y[~msk]"
   ]
  },
  {
   "cell_type": "code",
   "execution_count": 11,
   "metadata": {
    "collapsed": false
   },
   "outputs": [],
   "source": [
    "import re\n",
    "from nltk.corpus import stopwords\n",
    "from nltk.stem.porter import PorterStemmer\n",
    "from stemming.porter2 import stem\n",
    "from nltk.stem.lancaster import LancasterStemmer\n",
    "from nltk.stem import SnowballStemmer\n",
    "from nltk.stem import WordNetLemmatizer\n",
    "#stemmer = SnowballStemmer()\n",
    "\n",
    "lemma = WordNetLemmatizer()\n",
    "cachedStopWords = stopwords.words(\"english\")\n",
    "def review_to_wordlist( text, remove_stopwords=True ):\n",
    "    review_text = re.sub(\"[^a-zA-Z]\",\" \", text)\n",
    "    words = review_text.lower().split()\n",
    "    if remove_stopwords:\n",
    "        words = [w for w in words if not w in cachedStopWords]\n",
    "    words = (list(map(lambda token: lemma.lemmatize(stem(token)),words)))\n",
    "    \n",
    "    return(words)\n"
   ]
  },
  {
   "cell_type": "code",
   "execution_count": 12,
   "metadata": {
    "collapsed": true
   },
   "outputs": [],
   "source": [
    "import nltk.data\n",
    "\n",
    "tokenizer = nltk.data.load('tokenizers/punkt/english.pickle')\n",
    "import string\n",
    "\n",
    "printable = set(string.printable)\n",
    "\n",
    "def review_to_sentences( text, remove_stopwords=True ):\n",
    "    text = filter(lambda x: x in printable, text.strip())\n",
    "    raw_sentences = tokenizer.tokenize(text)\n",
    "    sentences = []\n",
    "    for raw_sentence in raw_sentences:\n",
    "        if len(raw_sentence) > 0:\n",
    "            sentences.extend( review_to_wordlist( raw_sentence, remove_stopwords ))\n",
    "    return sentences"
   ]
  },
  {
   "cell_type": "markdown",
   "metadata": {
    "collapsed": false
   },
   "source": [
    "With Label Binarizer."
   ]
  },
  {
   "cell_type": "code",
   "execution_count": null,
   "metadata": {
    "collapsed": true
   },
   "outputs": [],
   "source": [
    "from sklearn.preprocessing import MultiLabelBinarizer\n",
    "lb = MultiLabelBinarizer()\n",
    "y = lb.fit_transform(data.tags)"
   ]
  },
  {
   "cell_type": "code",
   "execution_count": null,
   "metadata": {
    "collapsed": false
   },
   "outputs": [],
   "source": [
    "import numpy as np\n",
    "msk = np.random.rand(len(data)) < 0.8\n",
    "#N = int(.8 * text.text.shape[0])\n",
    "Xtrain, ytr = data.text[msk], y[msk]\n",
    "Xtest, yte  = data.text[~msk], y[~msk]"
   ]
  },
  {
   "cell_type": "raw",
   "metadata": {},
   "source": [
    "http://stackoverflow.com/questions/41517595/nltk-stemmer-string-index-out-of-range\n",
    "nltk package has bug in version 3.2.1"
   ]
  },
  {
   "cell_type": "raw",
   "metadata": {
    "collapsed": false
   },
   "source": [
    "from nltk import word_tokenize\n",
    "#from nltk.stem.porter import PorterStemmer\n",
    "#from nltk.stem.lancaster import LancasterStemmer\n",
    "from nltk.stem import WordNetLemmatizer\n",
    "from nltk.corpus import stopwords\n",
    "import re\n",
    "import string\n",
    "\n",
    "cachedStopWords = stopwords.words(\"english\")\n",
    "printable = set(string.printable)\n",
    "stemmer = WordNetLemmatizer()    \n",
    "def tokenize(text):\n",
    "    text = filter(lambda x: x in printable, text)\n",
    "    min_length = 3\n",
    "    words = map(lambda word: word.lower(), word_tokenize(text))\n",
    "    words = [word for word in words if word not in cachedStopWords]\n",
    "    tokens = (list(map(lambda token: stemmer.lemmatize(token),words)))\n",
    "    p = re.compile('[a-zA-Z]+');\n",
    "    filtered_tokens =    list(filter (lambda token: p.match(token) and\n",
    "                               len(token) >= min_length,\n",
    "                               tokens))\n",
    "    return filtered_tokens\n"
   ]
  },
  {
   "cell_type": "code",
   "execution_count": 14,
   "metadata": {
    "collapsed": false
   },
   "outputs": [
    {
     "data": {
      "text/plain": [
       "37076"
      ]
     },
     "execution_count": 14,
     "metadata": {},
     "output_type": "execute_result"
    }
   ],
   "source": [
    "len(review_to_sentences(data.text[25]))"
   ]
  },
  {
   "cell_type": "raw",
   "metadata": {},
   "source": [
    "stemmers-vs-lemmatizers\n",
    "http://stackoverflow.com/questions/17317418/stemmers-vs-lemmatizers"
   ]
  },
  {
   "cell_type": "raw",
   "metadata": {},
   "source": [
    "import nltk\n",
    "#for i in range(19737,19772):\n",
    "min_length = 3\n",
    "input = data.text[19737]\n",
    "input\n",
    "words = nltk.word_tokenize(filter(lambda x: x in printable, input))\n",
    "words\n",
    "words = [word for word in words if word not in cachedStopWords]\n",
    "words\n",
    "tokens = (list(map(lambda token: WordNetLemmatizer().lemmatize(re.sub('[^a-zA-Z]', ' ', token)), words)))\n",
    "#WordNetLemmatizer().lemmatize(re.sub('[^A-Za-z]', ' ', token))\n",
    "p = re.compile('[a-zA-Z]+');\n",
    "filtered_tokens =    list(filter (lambda token: p.match(token) and\n",
    "                               len(token) >= min_length,\n",
    "                               tokens))\n",
    "filtered_tokens"
   ]
  },
  {
   "cell_type": "code",
   "execution_count": 15,
   "metadata": {
    "collapsed": true
   },
   "outputs": [],
   "source": [
    "from sklearn.feature_extraction.text import TfidfVectorizer\n",
    "# Tokenisation\n",
    "stop_words = stopwords.words(\"english\")\n",
    "vectorizer = TfidfVectorizer(stop_words=stop_words,\n",
    "                             tokenizer=review_to_sentences)"
   ]
  },
  {
   "cell_type": "code",
   "execution_count": null,
   "metadata": {
    "collapsed": true
   },
   "outputs": [],
   "source": [
    "vectorizer = TfidfVectorizer(\n",
    "    max_df=0.5,\n",
    "    max_features=5000,\n",
    "    min_df=10,\n",
    "    stop_words=stop_words,\n",
    "    tokenizer=review_to_sentences,\n",
    "    use_idf=True)\n"
   ]
  },
  {
   "cell_type": "code",
   "execution_count": 16,
   "metadata": {
    "collapsed": false,
    "scrolled": true
   },
   "outputs": [
    {
     "name": "stdout",
     "output_type": "stream",
     "text": [
      "(70, 38494)\n",
      "CPU times: user 1min 32s, sys: 484 ms, total: 1min 32s\n",
      "Wall time: 1min 31s\n"
     ]
    }
   ],
   "source": [
    "%%time\n",
    "Xtr = vectorizer.fit_transform(Xtrain)\n",
    "print(Xtr.shape)\n"
   ]
  },
  {
   "cell_type": "code",
   "execution_count": 17,
   "metadata": {
    "collapsed": false
   },
   "outputs": [
    {
     "name": "stdout",
     "output_type": "stream",
     "text": [
      "('sparse matrix shape:', (70, 38494))\n",
      "('non 0 values : ', 138938)\n",
      "sparcity  : 5.16%\n"
     ]
    }
   ],
   "source": [
    "print('sparse matrix shape:', Xtr.shape)\n",
    "print('non 0 values : ', Xtr.nnz)\n",
    "print('sparcity  : %.2f%%' % ( 100.000  * Xtr.nnz / (Xtr.shape[0] * Xtr.shape[1])))"
   ]
  },
  {
   "cell_type": "code",
   "execution_count": 18,
   "metadata": {
    "collapsed": false
   },
   "outputs": [
    {
     "data": {
      "text/plain": [
       "29026"
      ]
     },
     "execution_count": 18,
     "metadata": {},
     "output_type": "execute_result"
    }
   ],
   "source": [
    "vectorizer.vocabulary_['say']\n"
   ]
  },
  {
   "cell_type": "code",
   "execution_count": 19,
   "metadata": {
    "collapsed": false
   },
   "outputs": [
    {
     "name": "stdout",
     "output_type": "stream",
     "text": [
      "(10, 38494)\n",
      "CPU times: user 1.73 s, sys: 0 ns, total: 1.73 s\n",
      "Wall time: 1.74 s\n"
     ]
    }
   ],
   "source": [
    "%%time\n",
    "Xte = vectorizer.transform(Xtest)\n",
    "print(Xte.shape)"
   ]
  },
  {
   "cell_type": "markdown",
   "metadata": {},
   "source": [
    "### SVM"
   ]
  },
  {
   "cell_type": "code",
   "execution_count": null,
   "metadata": {
    "collapsed": false
   },
   "outputs": [],
   "source": [
    "%%time\n",
    "from sklearn.svm import LinearSVC\n",
    "from sklearn.multiclass import OneVsRestClassifier\n",
    "#(LinearSVC(penalty='l1', loss='squared_hinge', dual=False,  tol=1e-3),\n",
    "classifier = OneVsRestClassifier(LinearSVC(C=1.0, penalty='l2', \n",
    "                                           loss='squared_hinge', dual=True, \n",
    "                                           tol=1e-4, multi_class='ovr'))\n",
    "classifier.fit(Xtr, ytr)"
   ]
  },
  {
   "cell_type": "code",
   "execution_count": 28,
   "metadata": {
    "collapsed": false
   },
   "outputs": [
    {
     "name": "stdout",
     "output_type": "stream",
     "text": [
      "CPU times: user 68 ms, sys: 0 ns, total: 68 ms\n",
      "Wall time: 68.8 ms\n"
     ]
    }
   ],
   "source": [
    "%%time\n",
    "from sklearn.svm import LinearSVC\n",
    "from sklearn.multiclass import OneVsRestClassifier\n",
    "#(LinearSVC(penalty='l1', loss='squared_hinge', dual=False,  tol=1e-3),\n",
    "classifier = LinearSVC(C=1.0, penalty='l2', \n",
    "                                           loss='squared_hinge', dual=True, \n",
    "                                           tol=1e-4)\n",
    "classifier.fit(Xtr, ytr)"
   ]
  },
  {
   "cell_type": "code",
   "execution_count": null,
   "metadata": {
    "collapsed": false
   },
   "outputs": [],
   "source": [
    "%%time\n",
    "from sklearn.linear_model import SGDClassifier\n",
    "from sklearn.multiclass import OneVsRestClassifier\n",
    "classifier = OneVsRestClassifier(SGDClassifier(alpha=0.0001, average=False, class_weight=None, epsilon=0.9,\n",
    "        eta0=0.2, fit_intercept=True, l1_ratio=0,\n",
    "        learning_rate='optimal', loss='modified_huber', n_iter=10, n_jobs=1,\n",
    "        penalty='elasticnet', power_t=0.6, random_state=None, shuffle=True,\n",
    "        verbose=0, warm_start=False))\n",
    "classifier.fit(Xtr, ytr)"
   ]
  },
  {
   "cell_type": "code",
   "execution_count": 34,
   "metadata": {
    "collapsed": false
   },
   "outputs": [
    {
     "data": {
      "text/plain": [
       "SGDClassifier(alpha=0.0001, average=False, class_weight=None, epsilon=0.9,\n",
       "       eta0=0.2, fit_intercept=True, l1_ratio=0, learning_rate='optimal',\n",
       "       loss='modified_huber', n_iter=10, n_jobs=1, penalty='elasticnet',\n",
       "       power_t=0.6, random_state=None, shuffle=True, verbose=0,\n",
       "       warm_start=False)"
      ]
     },
     "execution_count": 34,
     "metadata": {},
     "output_type": "execute_result"
    }
   ],
   "source": [
    "from sklearn.linear_model import SGDClassifier\n",
    "from sklearn.multiclass import OneVsRestClassifier\n",
    "classifier = SGDClassifier(alpha=0.0001, average=False, class_weight=None, epsilon=0.9,\n",
    "        eta0=0.2, fit_intercept=True, l1_ratio=0,\n",
    "        learning_rate='optimal', loss='modified_huber', n_iter=10, n_jobs=1,\n",
    "        penalty='elasticnet', power_t=0.6, random_state=None, shuffle=True,\n",
    "        verbose=0, warm_start=False)\n",
    "classifier.fit(Xtr, ytr)"
   ]
  },
  {
   "cell_type": "code",
   "execution_count": 35,
   "metadata": {
    "collapsed": false
   },
   "outputs": [
    {
     "name": "stdout",
     "output_type": "stream",
     "text": [
      "['technical' 'technical' 'medicine' 'medicine' 'medicine' 'mobilescreen'\n",
      " 'mobilescreen' 'mobilememorycard' 'mobilememorycard' 'mobilememorycard']\n",
      "CPU times: user 4 ms, sys: 0 ns, total: 4 ms\n",
      "Wall time: 2.6 ms\n"
     ]
    }
   ],
   "source": [
    "%%time\n",
    "ypred = classifier.predict(Xte)\n",
    "ans = labels.inverse_transform(ypred)\n",
    "print(ans)"
   ]
  },
  {
   "cell_type": "code",
   "execution_count": 36,
   "metadata": {
    "collapsed": false
   },
   "outputs": [
    {
     "name": "stdout",
     "output_type": "stream",
     "text": [
      "['technical' 'technical' 'medicine' 'medicine' 'medicine' 'mobilescreen'\n",
      " 'mobilescreen' 'mobilememorycard' 'mobilememorycard' 'mobilememorycard']\n"
     ]
    }
   ],
   "source": [
    "ans = labels.inverse_transform(yte)\n",
    "print(ans)"
   ]
  },
  {
   "cell_type": "code",
   "execution_count": null,
   "metadata": {
    "collapsed": false
   },
   "outputs": [],
   "source": [
    "from sklearn.metrics import f1_score, precision_score,recall_score\n",
    "\n",
    "precision = precision_score(yte, ypred, average='micro')\n",
    "recall = recall_score(yte, ypred, average='micro')\n",
    "f1 = f1_score(yte, ypred, average='micro')\n",
    "\n",
    "print(\"Micro-average quality numbers\")\n",
    "print(\"Precision: {:.4f}, Recall: {:.4f}, F1-measure: {:.4f}\".format(precision, recall, f1))"
   ]
  },
  {
   "cell_type": "code",
   "execution_count": null,
   "metadata": {
    "collapsed": false
   },
   "outputs": [],
   "source": [
    "precision = precision_score(yte, ypred, average='macro')\n",
    "recall = recall_score(yte, ypred, average='macro')\n",
    "f1 = f1_score(yte, ypred, average='macro')\n",
    " \n",
    "print(\"Macro-average quality numbers\")\n",
    "print(\"Precision: {:.4f}, Recall: {:.4f}, F1-measure: {:.4f}\"\n",
    "        .format(precision, recall, f1))"
   ]
  },
  {
   "cell_type": "code",
   "execution_count": null,
   "metadata": {
    "collapsed": false
   },
   "outputs": [],
   "source": [
    "from sklearn.metrics import accuracy_score\n",
    "accuracy_score(yte, ypred)\n"
   ]
  },
  {
   "cell_type": "code",
   "execution_count": null,
   "metadata": {
    "collapsed": false
   },
   "outputs": [],
   "source": [
    "from sklearn.naive_bayes import MultinomialNB\n",
    "from sklearn.svm import SVC, LinearSVC\n",
    "from sklearn.metrics import classification_report, f1_score, accuracy_score, confusion_matrix\n",
    "from sklearn.pipeline import Pipeline\n",
    "from sklearn.grid_search import GridSearchCV\n",
    "from sklearn.cross_validation import StratifiedKFold, cross_val_score, train_test_split \n",
    "from sklearn.tree import DecisionTreeClassifier \n",
    "from sklearn.learning_curve import learning_curve"
   ]
  },
  {
   "cell_type": "code",
   "execution_count": null,
   "metadata": {
    "collapsed": false
   },
   "outputs": [],
   "source": []
  },
  {
   "cell_type": "code",
   "execution_count": null,
   "metadata": {
    "collapsed": false
   },
   "outputs": [],
   "source": [
    "spam_detector = OneVsRestClassifier(MultinomialNB(alpha=.01)).fit(Xtr, ytr)"
   ]
  },
  {
   "cell_type": "code",
   "execution_count": null,
   "metadata": {
    "collapsed": true
   },
   "outputs": [],
   "source": [
    "ypred = spam_detector.predict(Xte)"
   ]
  },
  {
   "cell_type": "code",
   "execution_count": null,
   "metadata": {
    "collapsed": false
   },
   "outputs": [],
   "source": [
    "pd.DataFrame(lb.inverse_transform(ypred), lb.inverse_transform(yte))"
   ]
  },
  {
   "cell_type": "code",
   "execution_count": null,
   "metadata": {
    "collapsed": true
   },
   "outputs": [],
   "source": []
  }
 ],
 "metadata": {
  "kernelspec": {
   "display_name": "Python 2",
   "language": "python",
   "name": "python2"
  },
  "language_info": {
   "codemirror_mode": {
    "name": "ipython",
    "version": 2
   },
   "file_extension": ".py",
   "mimetype": "text/x-python",
   "name": "python",
   "nbconvert_exporter": "python",
   "pygments_lexer": "ipython2",
   "version": "2.7.13"
  }
 },
 "nbformat": 4,
 "nbformat_minor": 2
}
