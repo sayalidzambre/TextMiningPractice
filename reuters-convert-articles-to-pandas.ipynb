{
 "cells": [
  {
   "cell_type": "code",
   "execution_count": 1,
   "metadata": {
    "collapsed": false
   },
   "outputs": [
    {
     "data": {
      "application/javascript": [
       "IPython.notebook.set_autosave_interval(300000)"
      ]
     },
     "metadata": {},
     "output_type": "display_data"
    },
    {
     "name": "stdout",
     "output_type": "stream",
     "text": [
      "Autosaving every 300 seconds\n"
     ]
    }
   ],
   "source": [
    "%autosave 300"
   ]
  },
  {
   "cell_type": "code",
   "execution_count": 3,
   "metadata": {
    "collapsed": false
   },
   "outputs": [],
   "source": [
    "import pandas as pd\n",
    "import numpy as np\n",
    "from Reuters import *"
   ]
  },
  {
   "cell_type": "code",
   "execution_count": 4,
   "metadata": {
    "collapsed": false
   },
   "outputs": [
    {
     "name": "stdout",
     "output_type": "stream",
     "text": [
      "-rw-r--r-- 1 canwill canwill 1324350 Dec  4  1996 data/reuters21578/reut2-000.sgm\r\n",
      "-rw-r--r-- 1 canwill canwill 1254440 Dec  4  1996 data/reuters21578/reut2-001.sgm\r\n",
      "-rw-r--r-- 1 canwill canwill 1217495 Dec  4  1996 data/reuters21578/reut2-002.sgm\r\n",
      "-rw-r--r-- 1 canwill canwill 1298721 Dec  4  1996 data/reuters21578/reut2-003.sgm\r\n",
      "-rw-r--r-- 1 canwill canwill 1321623 Dec  4  1996 data/reuters21578/reut2-004.sgm\r\n",
      "-rw-r--r-- 1 canwill canwill 1388644 Dec  4  1996 data/reuters21578/reut2-005.sgm\r\n",
      "-rw-r--r-- 1 canwill canwill 1254765 Dec  4  1996 data/reuters21578/reut2-006.sgm\r\n",
      "-rw-r--r-- 1 canwill canwill 1256772 Dec  4  1996 data/reuters21578/reut2-007.sgm\r\n",
      "-rw-r--r-- 1 canwill canwill 1410117 Dec  4  1996 data/reuters21578/reut2-008.sgm\r\n",
      "-rw-r--r-- 1 canwill canwill 1338903 Dec  4  1996 data/reuters21578/reut2-009.sgm\r\n",
      "-rw-r--r-- 1 canwill canwill 1371071 Dec  4  1996 data/reuters21578/reut2-010.sgm\r\n",
      "-rw-r--r-- 1 canwill canwill 1304117 Dec  4  1996 data/reuters21578/reut2-011.sgm\r\n",
      "-rw-r--r-- 1 canwill canwill 1323584 Dec  4  1996 data/reuters21578/reut2-012.sgm\r\n",
      "-rw-r--r-- 1 canwill canwill 1129687 Dec  4  1996 data/reuters21578/reut2-013.sgm\r\n",
      "-rw-r--r-- 1 canwill canwill 1128671 Dec  4  1996 data/reuters21578/reut2-014.sgm\r\n",
      "-rw-r--r-- 1 canwill canwill 1258665 Dec  4  1996 data/reuters21578/reut2-015.sgm\r\n",
      "-rw-r--r-- 1 canwill canwill 1316417 Dec  4  1996 data/reuters21578/reut2-016.sgm\r\n",
      "-rw-r--r-- 1 canwill canwill 1546911 Dec  4  1996 data/reuters21578/reut2-017.sgm\r\n",
      "-rw-r--r-- 1 canwill canwill 1258819 Dec  4  1996 data/reuters21578/reut2-018.sgm\r\n",
      "-rw-r--r-- 1 canwill canwill 1261780 Dec  4  1996 data/reuters21578/reut2-019.sgm\r\n",
      "-rw-r--r-- 1 canwill canwill 1049566 Dec  4  1996 data/reuters21578/reut2-020.sgm\r\n",
      "-rw-r--r-- 1 canwill canwill  621648 Dec  4  1996 data/reuters21578/reut2-021.sgm\r\n"
     ]
    }
   ],
   "source": [
    "# the downloaded dataset\n",
    "!ls -la data/reuters21578/*.sgm"
   ]
  },
  {
   "cell_type": "code",
   "execution_count": 5,
   "metadata": {
    "collapsed": false
   },
   "outputs": [
    {
     "name": "stdout",
     "output_type": "stream",
     "text": [
      "11367\r\n"
     ]
    }
   ],
   "source": [
    "!grep \\<TOPICS\\>\\<D\\> data/reuters21578/*.sgm | wc -l"
   ]
  },
  {
   "cell_type": "code",
   "execution_count": 6,
   "metadata": {
    "collapsed": false
   },
   "outputs": [
    {
     "data": {
      "text/html": [
       "<div>\n",
       "<table border=\"1\" class=\"dataframe\">\n",
       "  <thead>\n",
       "    <tr style=\"text-align: right;\">\n",
       "      <th></th>\n",
       "      <th>text</th>\n",
       "      <th>tags</th>\n",
       "    </tr>\n",
       "  </thead>\n",
       "  <tbody>\n",
       "    <tr>\n",
       "      <th>0</th>\n",
       "      <td>SANDOZ PLANS WEEDKILLER JOINT VENTURE IN USSR\\...</td>\n",
       "      <td>[usa, ussr]</td>\n",
       "    </tr>\n",
       "    <tr>\n",
       "      <th>1</th>\n",
       "      <td>TAIWAN REJECTS TEXTILE MAKERS EXCHANGE RATE PL...</td>\n",
       "      <td>[usa, taiwan]</td>\n",
       "    </tr>\n",
       "    <tr>\n",
       "      <th>2</th>\n",
       "      <td>NATIONAL FSI INC &lt;NFSI&gt; 4TH QTR LOSS\\n\\nShr lo...</td>\n",
       "      <td>[earn, usa]</td>\n",
       "    </tr>\n",
       "    <tr>\n",
       "      <th>3</th>\n",
       "      <td>OCCIDENTAL &lt;OXY&gt; OFFICIAL RESIGNS\\n\\nMidCon Co...</td>\n",
       "      <td>[usa]</td>\n",
       "    </tr>\n",
       "    <tr>\n",
       "      <th>4</th>\n",
       "      <td>ITALY'S BNL TO ISSUE 120 MLN DLR CONVERTIBLE B...</td>\n",
       "      <td>[italy]</td>\n",
       "    </tr>\n",
       "    <tr>\n",
       "      <th>5</th>\n",
       "      <td>GE &lt;GE&gt; SAYS AMR &lt;AMR&gt; ORDER WORTH 650 MLN DLR...</td>\n",
       "      <td>[usa]</td>\n",
       "    </tr>\n",
       "    <tr>\n",
       "      <th>6</th>\n",
       "      <td>&lt;PRECAMBRIAN SHIELD RESOURCES LTD&gt; YEAR LOSS\\n...</td>\n",
       "      <td>[earn, canada]</td>\n",
       "    </tr>\n",
       "    <tr>\n",
       "      <th>7</th>\n",
       "      <td>U.K. MONEY MARKET GIVEN FURTHER 437 MLN STG HE...</td>\n",
       "      <td>[money-fx, interest, uk]</td>\n",
       "    </tr>\n",
       "    <tr>\n",
       "      <th>8</th>\n",
       "      <td>GREASE MONKEY HOLDING CORP &lt;GMHC&gt; YEAR NOV 30\\...</td>\n",
       "      <td>[earn, usa]</td>\n",
       "    </tr>\n",
       "    <tr>\n",
       "      <th>9</th>\n",
       "      <td>ACCEPTANCE INSURANCE HOLDINGS INC &lt;ACPT&gt; YEAR\\...</td>\n",
       "      <td>[earn, usa]</td>\n",
       "    </tr>\n",
       "    <tr>\n",
       "      <th>10</th>\n",
       "      <td>MINSTAR INC &lt;MNST&gt; 4TH QTR NET\\n\\nOper shr los...</td>\n",
       "      <td>[earn, usa]</td>\n",
       "    </tr>\n",
       "    <tr>\n",
       "      <th>11</th>\n",
       "      <td>DAI-ICHI HOTEL SWISS FRANC NOTES COUPON CUT\\n\\...</td>\n",
       "      <td>[switzerland]</td>\n",
       "    </tr>\n",
       "    <tr>\n",
       "      <th>12</th>\n",
       "      <td>&lt;MARK RESOURCES INC&gt; YEAR LOSS\\n\\nShr not give...</td>\n",
       "      <td>[earn, canada]</td>\n",
       "    </tr>\n",
       "    <tr>\n",
       "      <th>13</th>\n",
       "      <td>SAAB-SCANIA ISSUES 150 MLN DLR EUROBOND\\n\\nSaa...</td>\n",
       "      <td>[uk]</td>\n",
       "    </tr>\n",
       "    <tr>\n",
       "      <th>14</th>\n",
       "      <td>TRANSFORM LOGIC &lt;TOOG&gt; REVISES RESULTS DOWNWAR...</td>\n",
       "      <td>[earn, usa]</td>\n",
       "    </tr>\n",
       "    <tr>\n",
       "      <th>15</th>\n",
       "      <td>AMERICAN STORES &lt;ASC&gt; SEES LOWER YEAR NET\\n\\nA...</td>\n",
       "      <td>[earn, usa]</td>\n",
       "    </tr>\n",
       "    <tr>\n",
       "      <th>16</th>\n",
       "      <td>KASLER CORP &lt;KASL&gt; 1ST QTR JAN 31 NET\\n\\nShr p...</td>\n",
       "      <td>[earn, usa]</td>\n",
       "    </tr>\n",
       "    <tr>\n",
       "      <th>17</th>\n",
       "      <td>CARIBBEAN SELECT &lt;CSEL&gt; TO REDEEM WARRANTS\\n\\n...</td>\n",
       "      <td>[usa]</td>\n",
       "    </tr>\n",
       "    <tr>\n",
       "      <th>18</th>\n",
       "      <td>UNILEVER HAS IMPROVED MARGINS, VOLUMES IN 1986...</td>\n",
       "      <td>[earn, uk]</td>\n",
       "    </tr>\n",
       "    <tr>\n",
       "      <th>19</th>\n",
       "      <td>SARA LEE &lt;SLE&gt; TO BUY 34 PCT OF DIM\\n\\nSara Le...</td>\n",
       "      <td>[acq, usa]</td>\n",
       "    </tr>\n",
       "    <tr>\n",
       "      <th>20</th>\n",
       "      <td>HOLIDAY CORP &lt;HIA&gt; HOTEL GROUP ADDS PROPERTIES...</td>\n",
       "      <td>[usa]</td>\n",
       "    </tr>\n",
       "    <tr>\n",
       "      <th>21</th>\n",
       "      <td>CHINA CALLS FOR BETTER TRADE DEAL WITH U.S.\\n\\...</td>\n",
       "      <td>[trade, usa, china]</td>\n",
       "    </tr>\n",
       "    <tr>\n",
       "      <th>22</th>\n",
       "      <td>U.S. COMMERCE SECRETARY SAYS EXPORT RISE NEEDE...</td>\n",
       "      <td>[lei, usa]</td>\n",
       "    </tr>\n",
       "    <tr>\n",
       "      <th>23</th>\n",
       "      <td>PRECAMBRIAN SHIELD TAKES 51 MLN DLR WRITEDOWN\\...</td>\n",
       "      <td>[earn, canada]</td>\n",
       "    </tr>\n",
       "    <tr>\n",
       "      <th>24</th>\n",
       "      <td>AERO SERVICES &lt;AEROE&gt; GETS NASDAQ EXCEPTION\\n\\...</td>\n",
       "      <td>[usa, nasdaq]</td>\n",
       "    </tr>\n",
       "    <tr>\n",
       "      <th>25</th>\n",
       "      <td>KENYAN ECONOMY FACES PROBLEMS, PRESIDENT SAYS\\...</td>\n",
       "      <td>[coffee, crude, kenya]</td>\n",
       "    </tr>\n",
       "    <tr>\n",
       "      <th>26</th>\n",
       "      <td>TRI-STAR &lt;TRSP&gt; CHANGING FISCAL YEAR\\n\\nTri-St...</td>\n",
       "      <td>[usa]</td>\n",
       "    </tr>\n",
       "    <tr>\n",
       "      <th>27</th>\n",
       "      <td>LIFETIME &lt;LFT&gt; TO MAKE ANNOUNCEMENT\\n\\nLifetim...</td>\n",
       "      <td>[usa]</td>\n",
       "    </tr>\n",
       "    <tr>\n",
       "      <th>28</th>\n",
       "      <td>SCOTT'S HOSPITALITY ACQUIRES CAPITAL FOOD\\n\\n&lt;...</td>\n",
       "      <td>[acq, usa]</td>\n",
       "    </tr>\n",
       "    <tr>\n",
       "      <th>29</th>\n",
       "      <td>ZIMBABWE COFFEE OUTPUT SET TO RISE\\n\\nZimbabwe...</td>\n",
       "      <td>[coffee, zimbabwe]</td>\n",
       "    </tr>\n",
       "    <tr>\n",
       "      <th>...</th>\n",
       "      <td>...</td>\n",
       "      <td>...</td>\n",
       "    </tr>\n",
       "    <tr>\n",
       "      <th>19686</th>\n",
       "      <td>CHEMLAWN &lt;CHEM&gt; SEEKS BIDS BY MARCH 18\\n\\nChem...</td>\n",
       "      <td>[acq, usa]</td>\n",
       "    </tr>\n",
       "    <tr>\n",
       "      <th>19687</th>\n",
       "      <td>ARGENTINE DEBT TALKS DIFFICULT-CENTRAL BANK HE...</td>\n",
       "      <td>[argentina, machinea]</td>\n",
       "    </tr>\n",
       "    <tr>\n",
       "      <th>19688</th>\n",
       "      <td>GTS CORP &lt;GTSC&gt; 4TH QTR DEC 31 LOSS\\n\\nShr los...</td>\n",
       "      <td>[earn, usa]</td>\n",
       "    </tr>\n",
       "    <tr>\n",
       "      <th>19689</th>\n",
       "      <td>AMERICAN MOTORS &lt;AMO&gt; EARLY MARCH SALES OFF\\n\\...</td>\n",
       "      <td>[usa]</td>\n",
       "    </tr>\n",
       "    <tr>\n",
       "      <th>19690</th>\n",
       "      <td>FAIRCHILD INDUSTRIES INC &lt;FEN&gt; 4TH QTR LOSS\\n\\...</td>\n",
       "      <td>[earn, usa]</td>\n",
       "    </tr>\n",
       "    <tr>\n",
       "      <th>19691</th>\n",
       "      <td>J.P. MORGAN &lt;JPM&gt; OFFICIAL DIES\\n\\nJ.P. Morgan...</td>\n",
       "      <td>[usa]</td>\n",
       "    </tr>\n",
       "    <tr>\n",
       "      <th>19692</th>\n",
       "      <td>SMARTNAMES TO BUY AMERICAN INFORMATION NETWORK...</td>\n",
       "      <td>[acq, usa]</td>\n",
       "    </tr>\n",
       "    <tr>\n",
       "      <th>19693</th>\n",
       "      <td>ROCKWELL INTERNATIONAL EXTENDS STOCK REPURCHAS...</td>\n",
       "      <td>[usa]</td>\n",
       "    </tr>\n",
       "    <tr>\n",
       "      <th>19694</th>\n",
       "      <td>AUXTON COMPUTER &lt;AUXT&gt; IN ARRANGEMENTS\\n\\nAuxt...</td>\n",
       "      <td>[usa]</td>\n",
       "    </tr>\n",
       "    <tr>\n",
       "      <th>19695</th>\n",
       "      <td>S/P SEES DRAMATIC GROWTH FOR ASSET-BACKED DEBT...</td>\n",
       "      <td>[usa]</td>\n",
       "    </tr>\n",
       "    <tr>\n",
       "      <th>19696</th>\n",
       "      <td>H.K. PORTER &lt;PHK PR&gt; TO REDEEM PREFERRED STOCK...</td>\n",
       "      <td>[usa]</td>\n",
       "    </tr>\n",
       "    <tr>\n",
       "      <th>19697</th>\n",
       "      <td>ARCO &lt;ACR&gt; SELLS TWO OPERATIONS\\n\\nAtlantic Ri...</td>\n",
       "      <td>[acq, usa]</td>\n",
       "    </tr>\n",
       "    <tr>\n",
       "      <th>19698</th>\n",
       "      <td>GTE &lt;GTE&gt; COMMENTS ON JUSTICE DEP'T PROPOSALS\\...</td>\n",
       "      <td>[usa]</td>\n",
       "    </tr>\n",
       "    <tr>\n",
       "      <th>19699</th>\n",
       "      <td>ECUADOR BEGINS WORK ON OIL PIPELINE TO COLOMBI...</td>\n",
       "      <td>[crude, ecuador, colombia]</td>\n",
       "    </tr>\n",
       "    <tr>\n",
       "      <th>19700</th>\n",
       "      <td>USDA'S EXPORT BONUS SAID TO AFFECT TRADE TALKS...</td>\n",
       "      <td>[usa, ec]</td>\n",
       "    </tr>\n",
       "    <tr>\n",
       "      <th>19701</th>\n",
       "      <td>DREXEL BURNHAM REPORTS UNDERWRITING RESULTS\\n\\...</td>\n",
       "      <td>[usa]</td>\n",
       "    </tr>\n",
       "    <tr>\n",
       "      <th>19702</th>\n",
       "      <td>CHRYSLER &lt;C&gt; BOOSTS PRICE ON FIFTH AVENUE CAR\\...</td>\n",
       "      <td>[usa]</td>\n",
       "    </tr>\n",
       "    <tr>\n",
       "      <th>19703</th>\n",
       "      <td>DUTCH TRADE FULLY IN BALANCE BUT DOWN IN JANUA...</td>\n",
       "      <td>[trade, netherlands]</td>\n",
       "    </tr>\n",
       "    <tr>\n",
       "      <th>19704</th>\n",
       "      <td>NUMEROUS FACTORS SAID POINT TO USSR CORN BUYIN...</td>\n",
       "      <td>[grain, corn, ussr, usa, argentina]</td>\n",
       "    </tr>\n",
       "    <tr>\n",
       "      <th>19705</th>\n",
       "      <td>FAIRCHILD INDUSTRIES &lt;FEN&gt; CLOSES PLANT\\n\\nFai...</td>\n",
       "      <td>[usa]</td>\n",
       "    </tr>\n",
       "    <tr>\n",
       "      <th>19706</th>\n",
       "      <td>DESOTO INC &lt;DSO&gt; REGULAR DIVIDEND SET\\n\\nQtly ...</td>\n",
       "      <td>[earn, usa]</td>\n",
       "    </tr>\n",
       "    <tr>\n",
       "      <th>19707</th>\n",
       "      <td>METHODE ELECTRONICS INC &lt;METHB&gt; REGULAR PAYOUT...</td>\n",
       "      <td>[earn, usa]</td>\n",
       "    </tr>\n",
       "    <tr>\n",
       "      <th>19708</th>\n",
       "      <td>TEXAS UTILTIES &lt;TXU&gt; UNIT SEEKS RATE REFUND\\n\\...</td>\n",
       "      <td>[usa]</td>\n",
       "    </tr>\n",
       "    <tr>\n",
       "      <th>19709</th>\n",
       "      <td>BRAZIL INDUSTRIAL GROWTH RATE SLOWED IN JANUAR...</td>\n",
       "      <td>[ipi, brazil]</td>\n",
       "    </tr>\n",
       "    <tr>\n",
       "      <th>19710</th>\n",
       "      <td>RJR NABISCO &lt;RJR&gt; SELLS SINKING FUND DEBENTURE...</td>\n",
       "      <td>[usa]</td>\n",
       "    </tr>\n",
       "    <tr>\n",
       "      <th>19711</th>\n",
       "      <td>BRITAIN WANTS BANK REGULATION DEAL WITH JAPAN\\...</td>\n",
       "      <td>[uk, japan]</td>\n",
       "    </tr>\n",
       "    <tr>\n",
       "      <th>19712</th>\n",
       "      <td>LOADMASTER SYSTEMS &lt;LSMIF&gt; NAMES NEW PRESIDENT...</td>\n",
       "      <td>[usa]</td>\n",
       "    </tr>\n",
       "    <tr>\n",
       "      <th>19713</th>\n",
       "      <td>MOODY'S MAY DOWNGRADE HOME SHOPPING &lt;HSN&gt; DEBT...</td>\n",
       "      <td>[usa]</td>\n",
       "    </tr>\n",
       "    <tr>\n",
       "      <th>19714</th>\n",
       "      <td>GENERAL CINEMA CORP &lt;GCN&gt; COMMON STOCK DIVIDEN...</td>\n",
       "      <td>[earn, usa]</td>\n",
       "    </tr>\n",
       "    <tr>\n",
       "      <th>19715</th>\n",
       "      <td>STEPHAN CO &lt;FTC&gt; YEAR NET\\n\\nShr 25 cts vs 18 ...</td>\n",
       "      <td>[earn, usa]</td>\n",
       "    </tr>\n",
       "  </tbody>\n",
       "</table>\n",
       "<p>19716 rows × 2 columns</p>\n",
       "</div>"
      ],
      "text/plain": [
       "                                                    text  \\\n",
       "0      SANDOZ PLANS WEEDKILLER JOINT VENTURE IN USSR\\...   \n",
       "1      TAIWAN REJECTS TEXTILE MAKERS EXCHANGE RATE PL...   \n",
       "2      NATIONAL FSI INC <NFSI> 4TH QTR LOSS\\n\\nShr lo...   \n",
       "3      OCCIDENTAL <OXY> OFFICIAL RESIGNS\\n\\nMidCon Co...   \n",
       "4      ITALY'S BNL TO ISSUE 120 MLN DLR CONVERTIBLE B...   \n",
       "5      GE <GE> SAYS AMR <AMR> ORDER WORTH 650 MLN DLR...   \n",
       "6      <PRECAMBRIAN SHIELD RESOURCES LTD> YEAR LOSS\\n...   \n",
       "7      U.K. MONEY MARKET GIVEN FURTHER 437 MLN STG HE...   \n",
       "8      GREASE MONKEY HOLDING CORP <GMHC> YEAR NOV 30\\...   \n",
       "9      ACCEPTANCE INSURANCE HOLDINGS INC <ACPT> YEAR\\...   \n",
       "10     MINSTAR INC <MNST> 4TH QTR NET\\n\\nOper shr los...   \n",
       "11     DAI-ICHI HOTEL SWISS FRANC NOTES COUPON CUT\\n\\...   \n",
       "12     <MARK RESOURCES INC> YEAR LOSS\\n\\nShr not give...   \n",
       "13     SAAB-SCANIA ISSUES 150 MLN DLR EUROBOND\\n\\nSaa...   \n",
       "14     TRANSFORM LOGIC <TOOG> REVISES RESULTS DOWNWAR...   \n",
       "15     AMERICAN STORES <ASC> SEES LOWER YEAR NET\\n\\nA...   \n",
       "16     KASLER CORP <KASL> 1ST QTR JAN 31 NET\\n\\nShr p...   \n",
       "17     CARIBBEAN SELECT <CSEL> TO REDEEM WARRANTS\\n\\n...   \n",
       "18     UNILEVER HAS IMPROVED MARGINS, VOLUMES IN 1986...   \n",
       "19     SARA LEE <SLE> TO BUY 34 PCT OF DIM\\n\\nSara Le...   \n",
       "20     HOLIDAY CORP <HIA> HOTEL GROUP ADDS PROPERTIES...   \n",
       "21     CHINA CALLS FOR BETTER TRADE DEAL WITH U.S.\\n\\...   \n",
       "22     U.S. COMMERCE SECRETARY SAYS EXPORT RISE NEEDE...   \n",
       "23     PRECAMBRIAN SHIELD TAKES 51 MLN DLR WRITEDOWN\\...   \n",
       "24     AERO SERVICES <AEROE> GETS NASDAQ EXCEPTION\\n\\...   \n",
       "25     KENYAN ECONOMY FACES PROBLEMS, PRESIDENT SAYS\\...   \n",
       "26     TRI-STAR <TRSP> CHANGING FISCAL YEAR\\n\\nTri-St...   \n",
       "27     LIFETIME <LFT> TO MAKE ANNOUNCEMENT\\n\\nLifetim...   \n",
       "28     SCOTT'S HOSPITALITY ACQUIRES CAPITAL FOOD\\n\\n<...   \n",
       "29     ZIMBABWE COFFEE OUTPUT SET TO RISE\\n\\nZimbabwe...   \n",
       "...                                                  ...   \n",
       "19686  CHEMLAWN <CHEM> SEEKS BIDS BY MARCH 18\\n\\nChem...   \n",
       "19687  ARGENTINE DEBT TALKS DIFFICULT-CENTRAL BANK HE...   \n",
       "19688  GTS CORP <GTSC> 4TH QTR DEC 31 LOSS\\n\\nShr los...   \n",
       "19689  AMERICAN MOTORS <AMO> EARLY MARCH SALES OFF\\n\\...   \n",
       "19690  FAIRCHILD INDUSTRIES INC <FEN> 4TH QTR LOSS\\n\\...   \n",
       "19691  J.P. MORGAN <JPM> OFFICIAL DIES\\n\\nJ.P. Morgan...   \n",
       "19692  SMARTNAMES TO BUY AMERICAN INFORMATION NETWORK...   \n",
       "19693  ROCKWELL INTERNATIONAL EXTENDS STOCK REPURCHAS...   \n",
       "19694  AUXTON COMPUTER <AUXT> IN ARRANGEMENTS\\n\\nAuxt...   \n",
       "19695  S/P SEES DRAMATIC GROWTH FOR ASSET-BACKED DEBT...   \n",
       "19696  H.K. PORTER <PHK PR> TO REDEEM PREFERRED STOCK...   \n",
       "19697  ARCO <ACR> SELLS TWO OPERATIONS\\n\\nAtlantic Ri...   \n",
       "19698  GTE <GTE> COMMENTS ON JUSTICE DEP'T PROPOSALS\\...   \n",
       "19699  ECUADOR BEGINS WORK ON OIL PIPELINE TO COLOMBI...   \n",
       "19700  USDA'S EXPORT BONUS SAID TO AFFECT TRADE TALKS...   \n",
       "19701  DREXEL BURNHAM REPORTS UNDERWRITING RESULTS\\n\\...   \n",
       "19702  CHRYSLER <C> BOOSTS PRICE ON FIFTH AVENUE CAR\\...   \n",
       "19703  DUTCH TRADE FULLY IN BALANCE BUT DOWN IN JANUA...   \n",
       "19704  NUMEROUS FACTORS SAID POINT TO USSR CORN BUYIN...   \n",
       "19705  FAIRCHILD INDUSTRIES <FEN> CLOSES PLANT\\n\\nFai...   \n",
       "19706  DESOTO INC <DSO> REGULAR DIVIDEND SET\\n\\nQtly ...   \n",
       "19707  METHODE ELECTRONICS INC <METHB> REGULAR PAYOUT...   \n",
       "19708  TEXAS UTILTIES <TXU> UNIT SEEKS RATE REFUND\\n\\...   \n",
       "19709  BRAZIL INDUSTRIAL GROWTH RATE SLOWED IN JANUAR...   \n",
       "19710  RJR NABISCO <RJR> SELLS SINKING FUND DEBENTURE...   \n",
       "19711  BRITAIN WANTS BANK REGULATION DEAL WITH JAPAN\\...   \n",
       "19712  LOADMASTER SYSTEMS <LSMIF> NAMES NEW PRESIDENT...   \n",
       "19713  MOODY'S MAY DOWNGRADE HOME SHOPPING <HSN> DEBT...   \n",
       "19714  GENERAL CINEMA CORP <GCN> COMMON STOCK DIVIDEN...   \n",
       "19715  STEPHAN CO <FTC> YEAR NET\\n\\nShr 25 cts vs 18 ...   \n",
       "\n",
       "                                      tags  \n",
       "0                              [usa, ussr]  \n",
       "1                            [usa, taiwan]  \n",
       "2                              [earn, usa]  \n",
       "3                                    [usa]  \n",
       "4                                  [italy]  \n",
       "5                                    [usa]  \n",
       "6                           [earn, canada]  \n",
       "7                 [money-fx, interest, uk]  \n",
       "8                              [earn, usa]  \n",
       "9                              [earn, usa]  \n",
       "10                             [earn, usa]  \n",
       "11                           [switzerland]  \n",
       "12                          [earn, canada]  \n",
       "13                                    [uk]  \n",
       "14                             [earn, usa]  \n",
       "15                             [earn, usa]  \n",
       "16                             [earn, usa]  \n",
       "17                                   [usa]  \n",
       "18                              [earn, uk]  \n",
       "19                              [acq, usa]  \n",
       "20                                   [usa]  \n",
       "21                     [trade, usa, china]  \n",
       "22                              [lei, usa]  \n",
       "23                          [earn, canada]  \n",
       "24                           [usa, nasdaq]  \n",
       "25                  [coffee, crude, kenya]  \n",
       "26                                   [usa]  \n",
       "27                                   [usa]  \n",
       "28                              [acq, usa]  \n",
       "29                      [coffee, zimbabwe]  \n",
       "...                                    ...  \n",
       "19686                           [acq, usa]  \n",
       "19687                [argentina, machinea]  \n",
       "19688                          [earn, usa]  \n",
       "19689                                [usa]  \n",
       "19690                          [earn, usa]  \n",
       "19691                                [usa]  \n",
       "19692                           [acq, usa]  \n",
       "19693                                [usa]  \n",
       "19694                                [usa]  \n",
       "19695                                [usa]  \n",
       "19696                                [usa]  \n",
       "19697                           [acq, usa]  \n",
       "19698                                [usa]  \n",
       "19699           [crude, ecuador, colombia]  \n",
       "19700                            [usa, ec]  \n",
       "19701                                [usa]  \n",
       "19702                                [usa]  \n",
       "19703                 [trade, netherlands]  \n",
       "19704  [grain, corn, ussr, usa, argentina]  \n",
       "19705                                [usa]  \n",
       "19706                          [earn, usa]  \n",
       "19707                          [earn, usa]  \n",
       "19708                                [usa]  \n",
       "19709                        [ipi, brazil]  \n",
       "19710                                [usa]  \n",
       "19711                          [uk, japan]  \n",
       "19712                                [usa]  \n",
       "19713                                [usa]  \n",
       "19714                          [earn, usa]  \n",
       "19715                          [earn, usa]  \n",
       "\n",
       "[19716 rows x 2 columns]"
      ]
     },
     "execution_count": 6,
     "metadata": {},
     "output_type": "execute_result"
    }
   ],
   "source": [
    "# read and parse the data\n",
    "# this will download the data if it's not yet available locally\n",
    "data_streamer = ReutersStreamReader('data/reuters21578').iterdocs()\n",
    "data = get_minibatch(data_streamer, 50000)\n",
    "data"
   ]
  },
  {
   "cell_type": "code",
   "execution_count": 7,
   "metadata": {
    "collapsed": false
   },
   "outputs": [],
   "source": [
    "data['tags'] = data.tags.map(lambda x:','.join(x))"
   ]
  },
  {
   "cell_type": "code",
   "execution_count": 8,
   "metadata": {
    "collapsed": false
   },
   "outputs": [
    {
     "data": {
      "text/plain": [
       "str"
      ]
     },
     "execution_count": 8,
     "metadata": {},
     "output_type": "execute_result"
    }
   ],
   "source": [
    "type(data.tags[10])"
   ]
  },
  {
   "cell_type": "code",
   "execution_count": 10,
   "metadata": {
    "collapsed": false
   },
   "outputs": [],
   "source": [
    "file_name = 'data/data.csv'\n",
    "data.to_csv(file_name, sep='\\t')"
   ]
  },
  {
   "cell_type": "code",
   "execution_count": 12,
   "metadata": {
    "collapsed": false
   },
   "outputs": [],
   "source": [
    "redata = pd.read_csv(file_name, sep='\\t')\n",
    "redata.tags = redata.tags.map(lambda s:s.split(','))"
   ]
  },
  {
   "cell_type": "code",
   "execution_count": 13,
   "metadata": {
    "collapsed": false
   },
   "outputs": [
    {
     "data": {
      "text/plain": [
       "list"
      ]
     },
     "execution_count": 13,
     "metadata": {},
     "output_type": "execute_result"
    }
   ],
   "source": [
    "type(redata.tags[0])"
   ]
  },
  {
   "cell_type": "code",
   "execution_count": 20,
   "metadata": {
    "collapsed": false
   },
   "outputs": [
    {
     "data": {
      "text/plain": [
       "['earn', 'usa']"
      ]
     },
     "execution_count": 20,
     "metadata": {},
     "output_type": "execute_result"
    }
   ],
   "source": [
    "redata.tags[10]"
   ]
  },
  {
   "cell_type": "code",
   "execution_count": 27,
   "metadata": {
    "collapsed": false
   },
   "outputs": [
    {
     "data": {
      "text/plain": [
       "0                             usa,ussr\n",
       "1                           usa,taiwan\n",
       "2                             earn,usa\n",
       "3                                  usa\n",
       "4                                italy\n",
       "5                                  usa\n",
       "6                          earn,canada\n",
       "7                 money-fx,interest,uk\n",
       "8                             earn,usa\n",
       "9                             earn,usa\n",
       "10                            earn,usa\n",
       "11                         switzerland\n",
       "12                         earn,canada\n",
       "13                                  uk\n",
       "14                            earn,usa\n",
       "15                            earn,usa\n",
       "16                            earn,usa\n",
       "17                                 usa\n",
       "18                             earn,uk\n",
       "19                             acq,usa\n",
       "20                                 usa\n",
       "21                     trade,usa,china\n",
       "22                             lei,usa\n",
       "23                         earn,canada\n",
       "24                          usa,nasdaq\n",
       "25                  coffee,crude,kenya\n",
       "26                                 usa\n",
       "27                                 usa\n",
       "28                             acq,usa\n",
       "29                     coffee,zimbabwe\n",
       "                     ...              \n",
       "19686                          acq,usa\n",
       "19687               argentina,machinea\n",
       "19688                         earn,usa\n",
       "19689                              usa\n",
       "19690                         earn,usa\n",
       "19691                              usa\n",
       "19692                          acq,usa\n",
       "19693                              usa\n",
       "19694                              usa\n",
       "19695                              usa\n",
       "19696                              usa\n",
       "19697                          acq,usa\n",
       "19698                              usa\n",
       "19699           crude,ecuador,colombia\n",
       "19700                           usa,ec\n",
       "19701                              usa\n",
       "19702                              usa\n",
       "19703                trade,netherlands\n",
       "19704    grain,corn,ussr,usa,argentina\n",
       "19705                              usa\n",
       "19706                         earn,usa\n",
       "19707                         earn,usa\n",
       "19708                              usa\n",
       "19709                       ipi,brazil\n",
       "19710                              usa\n",
       "19711                         uk,japan\n",
       "19712                              usa\n",
       "19713                              usa\n",
       "19714                         earn,usa\n",
       "19715                         earn,usa\n",
       "Name: tags, dtype: object"
      ]
     },
     "execution_count": 27,
     "metadata": {},
     "output_type": "execute_result"
    }
   ],
   "source": [
    "data.tags"
   ]
  },
  {
   "cell_type": "code",
   "execution_count": 28,
   "metadata": {
    "collapsed": false
   },
   "outputs": [
    {
     "data": {
      "text/plain": [
       "array([[0, 0, 0, ..., 0, 0, 0],\n",
       "       [0, 0, 0, ..., 0, 0, 0],\n",
       "       [0, 0, 0, ..., 0, 0, 0],\n",
       "       ..., \n",
       "       [0, 0, 0, ..., 0, 0, 0],\n",
       "       [0, 0, 0, ..., 0, 0, 0],\n",
       "       [0, 0, 0, ..., 0, 0, 0]])"
      ]
     },
     "execution_count": 28,
     "metadata": {},
     "output_type": "execute_result"
    }
   ],
   "source": [
    "from sklearn.preprocessing import LabelBinarizer\n",
    "\n",
    "# binary encode the tags\n",
    "lb = LabelBinarizer()\n",
    "Y = lb.fit_transform(data.tags)\n",
    "Y"
   ]
  },
  {
   "cell_type": "code",
   "execution_count": 29,
   "metadata": {
    "collapsed": false
   },
   "outputs": [
    {
     "data": {
      "text/plain": [
       "<19716x25497 sparse matrix of type '<type 'numpy.float64'>'\n",
       "\twith 1509007 stored elements in Compressed Sparse Row format>"
      ]
     },
     "execution_count": 29,
     "metadata": {},
     "output_type": "execute_result"
    }
   ],
   "source": [
    "from sklearn.feature_extraction.text import TfidfVectorizer\n",
    "\n",
    "# get the TF-IDF of the text\n",
    "vec = TfidfVectorizer(min_df=2, sublinear_tf=True, decode_error='ignore')\n",
    "X = vec.fit_transform(data.text)\n",
    "X"
   ]
  },
  {
   "cell_type": "code",
   "execution_count": 30,
   "metadata": {
    "collapsed": false
   },
   "outputs": [],
   "source": [
    "# split into train and test set\n",
    "N = int(.8 * X.shape[0])\n",
    "Xtr, ytr = X[:N,:], Y[:N,:]\n",
    "Xte, yte = X[N:,:], Y[N:,:]"
   ]
  },
  {
   "cell_type": "code",
   "execution_count": 31,
   "metadata": {
    "collapsed": false
   },
   "outputs": [],
   "source": [
    "# there are warnings of ill-defined recall/precision etc.\n",
    "# just ignore them for now\n",
    "import warnings\n",
    "warnings.filterwarnings(\"ignore\")"
   ]
  },
  {
   "cell_type": "code",
   "execution_count": null,
   "metadata": {
    "collapsed": false
   },
   "outputs": [],
   "source": [
    "from sklearn.multiclass import OneVsRestClassifier\n",
    "from sklearn.linear_model import LogisticRegression\n",
    "from sklearn.grid_search import GridSearchCV\n",
    "\n",
    "# logistic regression parameter to optimise\n",
    "params = {\"estimator__C\": np.logspace(1, 1.5, num=5)}\n",
    "# use OneVsRestClassifier for multiclass learning\n",
    "model = OneVsRestClassifier(LogisticRegression())\n",
    "# do a grid search on the params, with 5-fold cross-validation\n",
    "# optimise for F1-score\n",
    "clf = GridSearchCV(model, param_grid=params, scoring='f1', n_jobs=-1, cv=5)\n",
    "clf.fit(Xtr, ytr)\n",
    "clf.best_score_, clf.best_params_"
   ]
  },
  {
   "cell_type": "code",
   "execution_count": null,
   "metadata": {
    "collapsed": false
   },
   "outputs": [],
   "source": [
    "from sklearn.metrics import f1_score\n",
    "\n",
    "# compute predictions on test set\n",
    "pred = clf.predict(Xte)\n",
    "# compute F1-score on test set\n",
    "f1_score(yte, pred)"
   ]
  },
  {
   "cell_type": "code",
   "execution_count": null,
   "metadata": {
    "collapsed": false
   },
   "outputs": [],
   "source": [
    "# a quick look into some example predictions\n",
    "# compare with tags in test data\n",
    "tags = []\n",
    "for n in xrange(20):\n",
    "    tags.append((lb.classes_[yte[n]==1], lb.classes_[pred[n]==1]))\n",
    "    \n",
    "pd.DataFrame(tags, columns=['actual tags', 'predicted tags'])"
   ]
  },
  {
   "cell_type": "code",
   "execution_count": null,
   "metadata": {
    "collapsed": false
   },
   "outputs": [],
   "source": []
  },
  {
   "cell_type": "code",
   "execution_count": null,
   "metadata": {
    "collapsed": true
   },
   "outputs": [],
   "source": []
  }
 ],
 "metadata": {
  "kernelspec": {
   "display_name": "Python 2",
   "language": "python",
   "name": "python2"
  },
  "language_info": {
   "codemirror_mode": {
    "name": "ipython",
    "version": 2
   },
   "file_extension": ".py",
   "mimetype": "text/x-python",
   "name": "python",
   "nbconvert_exporter": "python",
   "pygments_lexer": "ipython2",
   "version": "2.7.13"
  }
 },
 "nbformat": 4,
 "nbformat_minor": 0
}
